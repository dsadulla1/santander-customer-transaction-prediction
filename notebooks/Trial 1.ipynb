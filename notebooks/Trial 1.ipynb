{
 "cells": [
  {
   "cell_type": "markdown",
   "metadata": {},
   "source": [
    "Change Log:\n",
    "1. No expm1\n",
    "2. No log1p\n",
    "3. Only +ve dependent vars values\n",
    "6. Added segment and country embeddings\n",
    "7. Added MinMaxScaler instead of Standard Scaler\n",
    "8. Added RMSE calculations at the end\n",
    "9. Removed last dropout\n",
    "15. Scaling X_test same as X_train\n",
    "16. Connecting Embeddings properly\n",
    "17. More categorical cols as embeddings\n",
    "18. New Architecture\n",
    "19. Same loss weights but longer value branch"
   ]
  },
  {
   "cell_type": "code",
   "execution_count": 71,
   "metadata": {},
   "outputs": [],
   "source": [
    "from keras.models import Sequential, Model, load_model\n",
    "from keras.layers import Input, Dense, Activation, Reshape, Dropout, PReLU, Concatenate, concatenate, multiply\n",
    "from keras.layers.normalization import BatchNormalization\n",
    "from keras.layers.embeddings import Embedding\n",
    "from keras.optimizers import Adam, Nadam\n",
    "from keras.callbacks import ReduceLROnPlateau, EarlyStopping, CSVLogger, ModelCheckpoint, LearningRateScheduler\n",
    "from keras.constraints import nonneg\n",
    "\n",
    "import pickle\n",
    "import sys\n",
    "import pandas as pd\n",
    "import h5py\n",
    "from math import sqrt\n",
    "import numpy\n",
    "import numpy as np\n",
    "from sklearn.preprocessing import MinMaxScaler, StandardScaler, Normalizer, OneHotEncoder\n",
    "from sklearn.metrics import mean_squared_error, roc_curve, confusion_matrix, accuracy_score\n",
    "\n",
    "numpy.random.seed(321)"
   ]
  },
  {
   "cell_type": "code",
   "execution_count": 72,
   "metadata": {},
   "outputs": [],
   "source": [
    "# Importing Data\n",
    "df = pd.read_csv(\"../data/train.csv\", sep=\",\")"
   ]
  },
  {
   "cell_type": "code",
   "execution_count": 73,
   "metadata": {},
   "outputs": [],
   "source": [
    "# Importing Data\n",
    "df_test = pd.read_csv(\"../data/test.csv\", sep=\",\")"
   ]
  },
  {
   "cell_type": "code",
   "execution_count": 83,
   "metadata": {},
   "outputs": [],
   "source": [
    "model = load_model('../results/BestModel1.h5')"
   ]
  },
  {
   "cell_type": "code",
   "execution_count": 75,
   "metadata": {},
   "outputs": [
    {
     "name": "stdout",
     "output_type": "stream",
     "text": [
      "df- (200000, 202)\n",
      "df- Index(['ID_code', 'target', 'var_0', 'var_1', 'var_2', 'var_3', 'var_4',\n",
      "       'var_5', 'var_6', 'var_7',\n",
      "       ...\n",
      "       'var_190', 'var_191', 'var_192', 'var_193', 'var_194', 'var_195',\n",
      "       'var_196', 'var_197', 'var_198', 'var_199'],\n",
      "      dtype='object', length=202)\n",
      "Index(['ID_code', 'target'], dtype='object')\n",
      "Index(['var_0', 'var_1', 'var_2', 'var_3', 'var_4', 'var_5', 'var_6', 'var_7',\n",
      "       'var_8', 'var_9',\n",
      "       ...\n",
      "       'var_190', 'var_191', 'var_192', 'var_193', 'var_194', 'var_195',\n",
      "       'var_196', 'var_197', 'var_198', 'var_199'],\n",
      "      dtype='object', length=200)\n"
     ]
    }
   ],
   "source": [
    "# Sanity Checks\n",
    "print(\"df-\",df.shape)\n",
    "print(\"df-\",df.columns)\n",
    "\n",
    "print(df.columns[0:2])\n",
    "print(df.columns[2:])"
   ]
  },
  {
   "cell_type": "code",
   "execution_count": 76,
   "metadata": {},
   "outputs": [],
   "source": [
    "X = df[df.columns[2:]].astype(float).values\n",
    "y_clf = np.array(df['target']).astype(float)\n",
    "\n",
    "X_test = df_test[df_test.columns[1:]].astype(float).values"
   ]
  },
  {
   "cell_type": "code",
   "execution_count": 77,
   "metadata": {},
   "outputs": [],
   "source": [
    "X_backup = X"
   ]
  },
  {
   "cell_type": "code",
   "execution_count": 78,
   "metadata": {},
   "outputs": [],
   "source": [
    "scaler = MinMaxScaler(feature_range=(0, 1))\n",
    "X = scaler.fit_transform(X)\n",
    "\n",
    "scaler_x_test = MinMaxScaler(feature_range=(0, 1))\n",
    "X_test = scaler.fit_transform(X_test)"
   ]
  },
  {
   "cell_type": "code",
   "execution_count": 79,
   "metadata": {},
   "outputs": [
    {
     "data": {
      "text/plain": [
       "array([0., 0., 0., ..., 0., 0., 0.])"
      ]
     },
     "execution_count": 79,
     "metadata": {},
     "output_type": "execute_result"
    }
   ],
   "source": [
    "y_clf"
   ]
  },
  {
   "cell_type": "code",
   "execution_count": 80,
   "metadata": {},
   "outputs": [
    {
     "name": "stdout",
     "output_type": "stream",
     "text": [
      "(200000, 200)\n",
      "(200000,)\n",
      "(200000, 200)\n"
     ]
    }
   ],
   "source": [
    "print(X.shape)\n",
    "print(y_clf.shape)\n",
    "\n",
    "print(X_test.shape)"
   ]
  },
  {
   "cell_type": "code",
   "execution_count": 81,
   "metadata": {},
   "outputs": [],
   "source": [
    "dropout_value = 0.2"
   ]
  },
  {
   "cell_type": "code",
   "execution_count": 82,
   "metadata": {},
   "outputs": [],
   "source": [
    "input_model = Input(shape = (X.shape[1],))\n",
    "\n",
    "output_model = Dense(512, activation='relu')(input_model)\n",
    "output_model = Dense(256, activation='relu')(output_model)\n",
    "output_model = Dense(128, activation='relu')(output_model)\n",
    "output_model = Dense(1, activation='sigmoid')(output_model)\n",
    "\n",
    "model = Model(inputs=input_model, \n",
    "              outputs=output_model)\n",
    "\n",
    "lr1 = Adam(lr=0.001)\n",
    "\n",
    "model.compile(loss='binary_crossentropy',\n",
    "              optimizer=lr1,\n",
    "              metrics = ['binary_accuracy'])\n",
    "\n",
    "MCP = ModelCheckpoint(filepath = \"../results/BestModel1.h5\", monitor='val_loss', verbose=0, save_best_only=True, \n",
    "                      save_weights_only=False, mode='auto', period=1)\n",
    "\n",
    "RLROP = ReduceLROnPlateau(monitor='val_loss', factor=0.1, patience=5, verbose=1, \n",
    "                          mode='auto', min_delta=0.00001, cooldown=1, min_lr=0)\n",
    "\n",
    "CSVL = CSVLogger(filename = \"../results/LogFile1.txt\", separator=',', append=False)"
   ]
  },
  {
   "cell_type": "code",
   "execution_count": 27,
   "metadata": {
    "scrolled": true
   },
   "outputs": [
    {
     "name": "stdout",
     "output_type": "stream",
     "text": [
      "Train on 140000 samples, validate on 60000 samples\n",
      "Epoch 1/100\n",
      "140000/140000 [==============================] - 11s 75us/step - loss: 0.3022 - binary_accuracy: 0.8961 - val_loss: 0.2696 - val_binary_accuracy: 0.9055\n",
      "Epoch 2/100\n",
      "140000/140000 [==============================] - 10s 73us/step - loss: 0.2395 - binary_accuracy: 0.9120 - val_loss: 0.2327 - val_binary_accuracy: 0.9137\n",
      "Epoch 3/100\n",
      "140000/140000 [==============================] - 10s 68us/step - loss: 0.2392 - binary_accuracy: 0.9124 - val_loss: 0.2323 - val_binary_accuracy: 0.9138\n",
      "Epoch 4/100\n",
      "140000/140000 [==============================] - 10s 71us/step - loss: 0.2338 - binary_accuracy: 0.9138 - val_loss: 0.2362 - val_binary_accuracy: 0.9116\n",
      "Epoch 5/100\n",
      "140000/140000 [==============================] - 9s 67us/step - loss: 0.2345 - binary_accuracy: 0.9136 - val_loss: 0.2333 - val_binary_accuracy: 0.9132\n",
      "Epoch 6/100\n",
      "140000/140000 [==============================] - 10s 68us/step - loss: 0.2364 - binary_accuracy: 0.9128 - val_loss: 0.2353 - val_binary_accuracy: 0.9123\n",
      "Epoch 7/100\n",
      "140000/140000 [==============================] - 10s 68us/step - loss: 0.2360 - binary_accuracy: 0.9131 - val_loss: 0.2371 - val_binary_accuracy: 0.9113\n",
      "Epoch 8/100\n",
      "140000/140000 [==============================] - 10s 68us/step - loss: 0.2340 - binary_accuracy: 0.9140 - val_loss: 0.2382 - val_binary_accuracy: 0.9109\n",
      "\n",
      "Epoch 00008: ReduceLROnPlateau reducing learning rate to 0.00010000000474974513.\n",
      "Epoch 9/100\n",
      "140000/140000 [==============================] - 10s 69us/step - loss: 0.2307 - binary_accuracy: 0.9148 - val_loss: 0.2315 - val_binary_accuracy: 0.9140\n",
      "Epoch 10/100\n",
      "140000/140000 [==============================] - 10s 69us/step - loss: 0.2299 - binary_accuracy: 0.9150 - val_loss: 0.2315 - val_binary_accuracy: 0.9140\n",
      "Epoch 11/100\n",
      "140000/140000 [==============================] - 10s 70us/step - loss: 0.2297 - binary_accuracy: 0.9152 - val_loss: 0.2313 - val_binary_accuracy: 0.9139\n",
      "Epoch 12/100\n",
      "140000/140000 [==============================] - 10s 70us/step - loss: 0.2297 - binary_accuracy: 0.9152 - val_loss: 0.2313 - val_binary_accuracy: 0.9140\n",
      "Epoch 13/100\n",
      "140000/140000 [==============================] - 10s 70us/step - loss: 0.2296 - binary_accuracy: 0.9151 - val_loss: 0.2349 - val_binary_accuracy: 0.9120\n",
      "Epoch 14/100\n",
      "140000/140000 [==============================] - 10s 70us/step - loss: 0.2298 - binary_accuracy: 0.9152 - val_loss: 0.2334 - val_binary_accuracy: 0.9132\n",
      "Epoch 15/100\n",
      "140000/140000 [==============================] - 10s 71us/step - loss: 0.2296 - binary_accuracy: 0.9153 - val_loss: 0.2310 - val_binary_accuracy: 0.9139\n",
      "Epoch 16/100\n",
      "140000/140000 [==============================] - 10s 71us/step - loss: 0.2293 - binary_accuracy: 0.9153 - val_loss: 0.2314 - val_binary_accuracy: 0.9139\n",
      "Epoch 17/100\n",
      "140000/140000 [==============================] - 11s 77us/step - loss: 0.2293 - binary_accuracy: 0.9154 - val_loss: 0.2324 - val_binary_accuracy: 0.9129\n",
      "Epoch 18/100\n",
      "140000/140000 [==============================] - 10s 70us/step - loss: 0.2290 - binary_accuracy: 0.9155 - val_loss: 0.2310 - val_binary_accuracy: 0.9138\n",
      "Epoch 19/100\n",
      "140000/140000 [==============================] - 10s 70us/step - loss: 0.2288 - binary_accuracy: 0.9155 - val_loss: 0.2308 - val_binary_accuracy: 0.9142\n",
      "Epoch 20/100\n",
      "140000/140000 [==============================] - 10s 70us/step - loss: 0.2290 - binary_accuracy: 0.9155 - val_loss: 0.2309 - val_binary_accuracy: 0.9139 binary_\n",
      "Epoch 21/100\n",
      "140000/140000 [==============================] - 10s 70us/step - loss: 0.2286 - binary_accuracy: 0.9159 - val_loss: 0.2307 - val_binary_accuracy: 0.9134\n",
      "Epoch 22/100\n",
      "140000/140000 [==============================] - 10s 71us/step - loss: 0.2285 - binary_accuracy: 0.9155 - val_loss: 0.2319 - val_binary_accuracy: 0.9130\n",
      "Epoch 23/100\n",
      "140000/140000 [==============================] - 10s 70us/step - loss: 0.2281 - binary_accuracy: 0.9158 - val_loss: 0.2306 - val_binary_accuracy: 0.9139\n",
      "Epoch 24/100\n",
      "140000/140000 [==============================] - 10s 70us/step - loss: 0.2283 - binary_accuracy: 0.9157 - val_loss: 0.2305 - val_binary_accuracy: 0.9139\n",
      "Epoch 25/100\n",
      "140000/140000 [==============================] - 10s 71us/step - loss: 0.2280 - binary_accuracy: 0.9156 - val_loss: 0.2304 - val_binary_accuracy: 0.9139\n",
      "Epoch 26/100\n",
      "140000/140000 [==============================] - 10s 72us/step - loss: 0.2276 - binary_accuracy: 0.9158 - val_loss: 0.2308 - val_binary_accuracy: 0.9139\n",
      "Epoch 27/100\n",
      "140000/140000 [==============================] - 10s 70us/step - loss: 0.2271 - binary_accuracy: 0.9159 - val_loss: 0.2302 - val_binary_accuracy: 0.9138\n",
      "Epoch 28/100\n",
      "140000/140000 [==============================] - 10s 71us/step - loss: 0.2274 - binary_accuracy: 0.9160 - val_loss: 0.2311 - val_binary_accuracy: 0.9137\n",
      "Epoch 29/100\n",
      "140000/140000 [==============================] - 10s 71us/step - loss: 0.2271 - binary_accuracy: 0.9160 - val_loss: 0.2301 - val_binary_accuracy: 0.9139\n",
      "Epoch 30/100\n",
      "140000/140000 [==============================] - 10s 70us/step - loss: 0.2264 - binary_accuracy: 0.9164 - val_loss: 0.2301 - val_binary_accuracy: 0.9138\n",
      "Epoch 31/100\n",
      "140000/140000 [==============================] - 10s 71us/step - loss: 0.2260 - binary_accuracy: 0.9166 - val_loss: 0.2301 - val_binary_accuracy: 0.9138\n",
      "Epoch 32/100\n",
      "140000/140000 [==============================] - 10s 71us/step - loss: 0.2259 - binary_accuracy: 0.9168 - val_loss: 0.2299 - val_binary_accuracy: 0.9139\n",
      "Epoch 33/100\n",
      "140000/140000 [==============================] - 10s 71us/step - loss: 0.2256 - binary_accuracy: 0.9168 - val_loss: 0.2326 - val_binary_accuracy: 0.9127\n",
      "Epoch 34/100\n",
      "140000/140000 [==============================] - 10s 71us/step - loss: 0.2254 - binary_accuracy: 0.9166 - val_loss: 0.2301 - val_binary_accuracy: 0.9140\n",
      "Epoch 35/100\n",
      "140000/140000 [==============================] - 10s 70us/step - loss: 0.2260 - binary_accuracy: 0.9167 - val_loss: 0.2297 - val_binary_accuracy: 0.9141\n",
      "Epoch 36/100\n",
      "140000/140000 [==============================] - 10s 70us/step - loss: 0.2248 - binary_accuracy: 0.9169 - val_loss: 0.2344 - val_binary_accuracy: 0.9123\n",
      "Epoch 37/100\n",
      "140000/140000 [==============================] - 10s 71us/step - loss: 0.2240 - binary_accuracy: 0.9173 - val_loss: 0.2306 - val_binary_accuracy: 0.9138\n",
      "Epoch 38/100\n",
      "140000/140000 [==============================] - 10s 71us/step - loss: 0.2233 - binary_accuracy: 0.9175 - val_loss: 0.2304 - val_binary_accuracy: 0.9140\n",
      "Epoch 39/100\n",
      "140000/140000 [==============================] - 10s 71us/step - loss: 0.2227 - binary_accuracy: 0.9175 - val_loss: 0.2305 - val_binary_accuracy: 0.9139\n",
      "Epoch 40/100\n",
      "140000/140000 [==============================] - 10s 71us/step - loss: 0.2231 - binary_accuracy: 0.9177 - val_loss: 0.2314 - val_binary_accuracy: 0.9136\n",
      "\n",
      "Epoch 00040: ReduceLROnPlateau reducing learning rate to 1.0000000474974514e-05.\n",
      "Epoch 41/100\n",
      "140000/140000 [==============================] - 10s 72us/step - loss: 0.2213 - binary_accuracy: 0.9184 - val_loss: 0.2293 - val_binary_accuracy: 0.9143\n",
      "Epoch 42/100\n",
      "140000/140000 [==============================] - 10s 72us/step - loss: 0.2209 - binary_accuracy: 0.9186 - val_loss: 0.2293 - val_binary_accuracy: 0.9143\n",
      "Epoch 43/100\n",
      "140000/140000 [==============================] - 10s 72us/step - loss: 0.2208 - binary_accuracy: 0.9184 - val_loss: 0.2293 - val_binary_accuracy: 0.9145\n",
      "Epoch 44/100\n",
      "140000/140000 [==============================] - 10s 72us/step - loss: 0.2207 - binary_accuracy: 0.9185 - val_loss: 0.2294 - val_binary_accuracy: 0.9141\n",
      "Epoch 45/100\n",
      "140000/140000 [==============================] - 10s 71us/step - loss: 0.2207 - binary_accuracy: 0.9185 - val_loss: 0.2294 - val_binary_accuracy: 0.9141\n",
      "Epoch 46/100\n",
      "140000/140000 [==============================] - 10s 72us/step - loss: 0.2206 - binary_accuracy: 0.9186 - val_loss: 0.2293 - val_binary_accuracy: 0.9144\n",
      "Epoch 47/100\n",
      "140000/140000 [==============================] - 10s 72us/step - loss: 0.2205 - binary_accuracy: 0.9186 - val_loss: 0.2294 - val_binary_accuracy: 0.9145\n",
      "\n",
      "Epoch 00047: ReduceLROnPlateau reducing learning rate to 1.0000000656873453e-06.\n",
      "Epoch 48/100\n",
      "140000/140000 [==============================] - 9s 66us/step - loss: 0.2204 - binary_accuracy: 0.9187 - val_loss: 0.2293 - val_binary_accuracy: 0.9145\n",
      "Epoch 49/100\n",
      "140000/140000 [==============================] - 9s 67us/step - loss: 0.2203 - binary_accuracy: 0.9187 - val_loss: 0.2293 - val_binary_accuracy: 0.9145\n",
      "Epoch 50/100\n",
      "140000/140000 [==============================] - 9s 67us/step - loss: 0.2203 - binary_accuracy: 0.9187 - val_loss: 0.2293 - val_binary_accuracy: 0.9144\n",
      "Epoch 51/100\n",
      "140000/140000 [==============================] - 9s 67us/step - loss: 0.2203 - binary_accuracy: 0.9186 - val_loss: 0.2293 - val_binary_accuracy: 0.9144\n",
      "Epoch 52/100\n",
      "140000/140000 [==============================] - 9s 66us/step - loss: 0.2203 - binary_accuracy: 0.9187 - val_loss: 0.2293 - val_binary_accuracy: 0.9144\n",
      "\n",
      "Epoch 00052: ReduceLROnPlateau reducing learning rate to 1.0000001111620805e-07.\n",
      "Epoch 53/100\n",
      "140000/140000 [==============================] - 9s 67us/step - loss: 0.2203 - binary_accuracy: 0.9187 - val_loss: 0.2293 - val_binary_accuracy: 0.9144\n",
      "Epoch 54/100\n",
      "140000/140000 [==============================] - 9s 66us/step - loss: 0.2203 - binary_accuracy: 0.9187 - val_loss: 0.2293 - val_binary_accuracy: 0.9144\n",
      "Epoch 55/100\n",
      "140000/140000 [==============================] - 9s 68us/step - loss: 0.2203 - binary_accuracy: 0.9187 - val_loss: 0.2293 - val_binary_accuracy: 0.9144\n",
      "Epoch 56/100\n",
      "140000/140000 [==============================] - 9s 67us/step - loss: 0.2203 - binary_accuracy: 0.9186 - val_loss: 0.2293 - val_binary_accuracy: 0.9145\n",
      "Epoch 57/100\n",
      "140000/140000 [==============================] - 9s 67us/step - loss: 0.2203 - binary_accuracy: 0.9187 - val_loss: 0.2293 - val_binary_accuracy: 0.9144\n",
      "\n",
      "Epoch 00057: ReduceLROnPlateau reducing learning rate to 1.000000082740371e-08.\n",
      "Epoch 58/100\n",
      "140000/140000 [==============================] - 9s 67us/step - loss: 0.2203 - binary_accuracy: 0.9186 - val_loss: 0.2293 - val_binary_accuracy: 0.9144\n",
      "Epoch 59/100\n",
      "140000/140000 [==============================] - 9s 67us/step - loss: 0.2203 - binary_accuracy: 0.9186 - val_loss: 0.2293 - val_binary_accuracy: 0.9144\n",
      "Epoch 60/100\n",
      "140000/140000 [==============================] - 10s 68us/step - loss: 0.2203 - binary_accuracy: 0.9186 - val_loss: 0.2293 - val_binary_accuracy: 0.9144\n",
      "Epoch 61/100\n",
      "140000/140000 [==============================] - 9s 66us/step - loss: 0.2203 - binary_accuracy: 0.9186 - val_loss: 0.2293 - val_binary_accuracy: 0.9144\n",
      "Epoch 62/100\n",
      "140000/140000 [==============================] - 9s 67us/step - loss: 0.2203 - binary_accuracy: 0.9186 - val_loss: 0.2293 - val_binary_accuracy: 0.9144\n",
      "\n",
      "Epoch 00062: ReduceLROnPlateau reducing learning rate to 1.000000082740371e-09.\n",
      "Epoch 63/100\n",
      "140000/140000 [==============================] - 9s 67us/step - loss: 0.2203 - binary_accuracy: 0.9186 - val_loss: 0.2293 - val_binary_accuracy: 0.9144\n",
      "Epoch 64/100\n",
      "140000/140000 [==============================] - 9s 67us/step - loss: 0.2203 - binary_accuracy: 0.9186 - val_loss: 0.2293 - val_binary_accuracy: 0.9144\n",
      "Epoch 65/100\n",
      "140000/140000 [==============================] - 9s 67us/step - loss: 0.2203 - binary_accuracy: 0.9186 - val_loss: 0.2293 - val_binary_accuracy: 0.9144s - loss: 0.2198\n",
      "Epoch 66/100\n",
      "140000/140000 [==============================] - 9s 67us/step - loss: 0.2203 - binary_accuracy: 0.9186 - val_loss: 0.2293 - val_binary_accuracy: 0.9144\n",
      "Epoch 67/100\n",
      "140000/140000 [==============================] - 9s 67us/step - loss: 0.2203 - binary_accuracy: 0.9186 - val_loss: 0.2293 - val_binary_accuracy: 0.9144\n",
      "\n",
      "Epoch 00067: ReduceLROnPlateau reducing learning rate to 1.000000082740371e-10.\n",
      "Epoch 68/100\n",
      "140000/140000 [==============================] - 9s 67us/step - loss: 0.2203 - binary_accuracy: 0.9186 - val_loss: 0.2293 - val_binary_accuracy: 0.9144\n",
      "Epoch 69/100\n",
      "140000/140000 [==============================] - 9s 67us/step - loss: 0.2203 - binary_accuracy: 0.9186 - val_loss: 0.2293 - val_binary_accuracy: 0.9144\n",
      "Epoch 70/100\n",
      "140000/140000 [==============================] - 9s 67us/step - loss: 0.2203 - binary_accuracy: 0.9186 - val_loss: 0.2293 - val_binary_accuracy: 0.9144\n",
      "Epoch 71/100\n",
      "140000/140000 [==============================] - 9s 67us/step - loss: 0.2203 - binary_accuracy: 0.9186 - val_loss: 0.2293 - val_binary_accuracy: 0.9144\n",
      "Epoch 72/100\n",
      "140000/140000 [==============================] - 9s 68us/step - loss: 0.2203 - binary_accuracy: 0.9186 - val_loss: 0.2293 - val_binary_accuracy: 0.9144\n",
      "\n",
      "Epoch 00072: ReduceLROnPlateau reducing learning rate to 1.000000082740371e-11.\n",
      "Epoch 73/100\n",
      "140000/140000 [==============================] - 9s 67us/step - loss: 0.2203 - binary_accuracy: 0.9186 - val_loss: 0.2293 - val_binary_accuracy: 0.9144\n",
      "Epoch 74/100\n",
      "140000/140000 [==============================] - 9s 67us/step - loss: 0.2203 - binary_accuracy: 0.9186 - val_loss: 0.2293 - val_binary_accuracy: 0.9144\n",
      "Epoch 75/100\n",
      "140000/140000 [==============================] - 10s 68us/step - loss: 0.2203 - binary_accuracy: 0.9186 - val_loss: 0.2293 - val_binary_accuracy: 0.9144\n",
      "Epoch 76/100\n",
      "140000/140000 [==============================] - 10s 68us/step - loss: 0.2203 - binary_accuracy: 0.9186 - val_loss: 0.2293 - val_binary_accuracy: 0.9144\n",
      "Epoch 77/100\n",
      "140000/140000 [==============================] - 9s 67us/step - loss: 0.2203 - binary_accuracy: 0.9186 - val_loss: 0.2293 - val_binary_accuracy: 0.9144\n",
      "\n",
      "Epoch 00077: ReduceLROnPlateau reducing learning rate to 1.000000082740371e-12.\n",
      "Epoch 78/100\n",
      "140000/140000 [==============================] - 10s 68us/step - loss: 0.2203 - binary_accuracy: 0.9186 - val_loss: 0.2293 - val_binary_accuracy: 0.9144\n",
      "Epoch 79/100\n",
      "140000/140000 [==============================] - 10s 69us/step - loss: 0.2203 - binary_accuracy: 0.9186 - val_loss: 0.2293 - val_binary_accuracy: 0.9144\n",
      "Epoch 80/100\n",
      "140000/140000 [==============================] - 10s 68us/step - loss: 0.2203 - binary_accuracy: 0.9186 - val_loss: 0.2293 - val_binary_accuracy: 0.9144\n",
      "Epoch 81/100\n",
      "140000/140000 [==============================] - 10s 69us/step - loss: 0.2203 - binary_accuracy: 0.9186 - val_loss: 0.2293 - val_binary_accuracy: 0.9144\n",
      "Epoch 82/100\n",
      "140000/140000 [==============================] - 10s 69us/step - loss: 0.2203 - binary_accuracy: 0.9186 - val_loss: 0.2293 - val_binary_accuracy: 0.9144\n",
      "\n",
      "Epoch 00082: ReduceLROnPlateau reducing learning rate to 1.0000001044244145e-13.\n",
      "Epoch 83/100\n",
      "140000/140000 [==============================] - 10s 69us/step - loss: 0.2203 - binary_accuracy: 0.9186 - val_loss: 0.2293 - val_binary_accuracy: 0.9144\n",
      "Epoch 84/100\n",
      "140000/140000 [==============================] - 10s 69us/step - loss: 0.2203 - binary_accuracy: 0.9186 - val_loss: 0.2293 - val_binary_accuracy: 0.9144\n",
      "Epoch 85/100\n",
      "140000/140000 [==============================] - 10s 69us/step - loss: 0.2203 - binary_accuracy: 0.9186 - val_loss: 0.2293 - val_binary_accuracy: 0.9144loss: 0.2203 - binary_\n",
      "Epoch 86/100\n",
      "140000/140000 [==============================] - 10s 69us/step - loss: 0.2203 - binary_accuracy: 0.9186 - val_loss: 0.2293 - val_binary_accuracy: 0.9144\n",
      "Epoch 87/100\n",
      "140000/140000 [==============================] - 10s 69us/step - loss: 0.2203 - binary_accuracy: 0.9186 - val_loss: 0.2293 - val_binary_accuracy: 0.9144\n",
      "\n",
      "Epoch 00087: ReduceLROnPlateau reducing learning rate to 1.0000001179769417e-14.\n",
      "Epoch 88/100\n",
      "140000/140000 [==============================] - 10s 70us/step - loss: 0.2203 - binary_accuracy: 0.9186 - val_loss: 0.2293 - val_binary_accuracy: 0.9144\n",
      "Epoch 89/100\n",
      "140000/140000 [==============================] - 10s 69us/step - loss: 0.2203 - binary_accuracy: 0.9186 - val_loss: 0.2293 - val_binary_accuracy: 0.9144\n",
      "Epoch 90/100\n",
      "140000/140000 [==============================] - 10s 69us/step - loss: 0.2203 - binary_accuracy: 0.9186 - val_loss: 0.2293 - val_binary_accuracy: 0.9144\n",
      "Epoch 91/100\n",
      "140000/140000 [==============================] - 10s 70us/step - loss: 0.2203 - binary_accuracy: 0.9186 - val_loss: 0.2293 - val_binary_accuracy: 0.9144\n",
      "Epoch 92/100\n",
      "140000/140000 [==============================] - 10s 70us/step - loss: 0.2203 - binary_accuracy: 0.9186 - val_loss: 0.2293 - val_binary_accuracy: 0.9144\n",
      "\n",
      "Epoch 00092: ReduceLROnPlateau reducing learning rate to 1.0000001518582595e-15.\n",
      "Epoch 93/100\n"
     ]
    },
    {
     "name": "stdout",
     "output_type": "stream",
     "text": [
      "140000/140000 [==============================] - 9s 66us/step - loss: 0.2203 - binary_accuracy: 0.9186 - val_loss: 0.2293 - val_binary_accuracy: 0.9144\n",
      "Epoch 94/100\n",
      "140000/140000 [==============================] - 9s 66us/step - loss: 0.2203 - binary_accuracy: 0.9186 - val_loss: 0.2293 - val_binary_accuracy: 0.9144\n",
      "Epoch 95/100\n",
      "140000/140000 [==============================] - 9s 68us/step - loss: 0.2203 - binary_accuracy: 0.9186 - val_loss: 0.2293 - val_binary_accuracy: 0.9144\n",
      "Epoch 96/100\n",
      "140000/140000 [==============================] - 9s 67us/step - loss: 0.2203 - binary_accuracy: 0.9186 - val_loss: 0.2293 - val_binary_accuracy: 0.9144\n",
      "Epoch 97/100\n",
      "140000/140000 [==============================] - 9s 67us/step - loss: 0.2203 - binary_accuracy: 0.9186 - val_loss: 0.2293 - val_binary_accuracy: 0.9144\n",
      "\n",
      "Epoch 00097: ReduceLROnPlateau reducing learning rate to 1.0000001095066122e-16.\n",
      "Epoch 98/100\n",
      "140000/140000 [==============================] - 9s 67us/step - loss: 0.2203 - binary_accuracy: 0.9186 - val_loss: 0.2293 - val_binary_accuracy: 0.9144\n",
      "Epoch 99/100\n",
      "140000/140000 [==============================] - 9s 67us/step - loss: 0.2203 - binary_accuracy: 0.9186 - val_loss: 0.2293 - val_binary_accuracy: 0.9144\n",
      "Epoch 100/100\n",
      "140000/140000 [==============================] - 9s 66us/step - loss: 0.2203 - binary_accuracy: 0.9186 - val_loss: 0.2293 - val_binary_accuracy: 0.9144\n"
     ]
    },
    {
     "data": {
      "text/plain": [
       "<keras.callbacks.History at 0x16b014912e8>"
      ]
     },
     "execution_count": 27,
     "metadata": {},
     "output_type": "execute_result"
    }
   ],
   "source": [
    "epochs = 100 # 20\n",
    "\n",
    "model.fit(x = X, \n",
    "          y = y_clf,\n",
    "          validation_split = 0.3,\n",
    "          epochs=epochs, \n",
    "          batch_size= 1024,\n",
    "          callbacks = [MCP, RLROP, CSVL],\n",
    "          verbose = 1,\n",
    "          shuffle = True)"
   ]
  },
  {
   "cell_type": "code",
   "execution_count": 40,
   "metadata": {
    "scrolled": true
   },
   "outputs": [
    {
     "name": "stdout",
     "output_type": "stream",
     "text": [
      "Train on 140000 samples, validate on 60000 samples\n",
      "Epoch 1/100\n",
      "140000/140000 [==============================] - 10s 72us/step - loss: 0.2208 - binary_accuracy: 0.9185 - val_loss: 0.2293 - val_binary_accuracy: 0.9144\n",
      "Epoch 2/100\n",
      "140000/140000 [==============================] - 9s 67us/step - loss: 0.2207 - binary_accuracy: 0.9185 - val_loss: 0.2293 - val_binary_accuracy: 0.9143\n",
      "Epoch 3/100\n",
      "140000/140000 [==============================] - 9s 66us/step - loss: 0.2207 - binary_accuracy: 0.9184 - val_loss: 0.2293 - val_binary_accuracy: 0.9146\n",
      "Epoch 4/100\n",
      "140000/140000 [==============================] - 9s 66us/step - loss: 0.2207 - binary_accuracy: 0.9185 - val_loss: 0.2296 - val_binary_accuracy: 0.9141\n",
      "Epoch 5/100\n",
      "140000/140000 [==============================] - 9s 66us/step - loss: 0.2205 - binary_accuracy: 0.9187 - val_loss: 0.2293 - val_binary_accuracy: 0.9144\n",
      "Epoch 6/100\n",
      "140000/140000 [==============================] - 10s 68us/step - loss: 0.2205 - binary_accuracy: 0.9186 - val_loss: 0.2293 - val_binary_accuracy: 0.9145\n",
      "\n",
      "Epoch 00006: ReduceLROnPlateau reducing learning rate to 1.0000000656873453e-06.\n",
      "Epoch 7/100\n",
      "140000/140000 [==============================] - 10s 70us/step - loss: 0.2203 - binary_accuracy: 0.9187 - val_loss: 0.2293 - val_binary_accuracy: 0.9143\n",
      "Epoch 8/100\n",
      "140000/140000 [==============================] - 10s 72us/step - loss: 0.2203 - binary_accuracy: 0.9186 - val_loss: 0.2293 - val_binary_accuracy: 0.9145\n",
      "Epoch 9/100\n",
      "140000/140000 [==============================] - 10s 73us/step - loss: 0.2202 - binary_accuracy: 0.9186 - val_loss: 0.2294 - val_binary_accuracy: 0.9144\n",
      "Epoch 10/100\n",
      "140000/140000 [==============================] - 11s 77us/step - loss: 0.2202 - binary_accuracy: 0.9187 - val_loss: 0.2293 - val_binary_accuracy: 0.9145\n",
      "Epoch 11/100\n",
      "140000/140000 [==============================] - 10s 72us/step - loss: 0.2202 - binary_accuracy: 0.9187 - val_loss: 0.2294 - val_binary_accuracy: 0.9144\n",
      "\n",
      "Epoch 00011: ReduceLROnPlateau reducing learning rate to 1.0000001111620805e-07.\n",
      "Epoch 12/100\n",
      "140000/140000 [==============================] - 10s 71us/step - loss: 0.2202 - binary_accuracy: 0.9187 - val_loss: 0.2293 - val_binary_accuracy: 0.914402 - binary_accuracy: 0.\n",
      "Epoch 13/100\n",
      "140000/140000 [==============================] - 10s 70us/step - loss: 0.2202 - binary_accuracy: 0.9187 - val_loss: 0.2293 - val_binary_accuracy: 0.9144\n",
      "Epoch 14/100\n",
      "140000/140000 [==============================] - 10s 70us/step - loss: 0.2202 - binary_accuracy: 0.9187 - val_loss: 0.2293 - val_binary_accuracy: 0.9144\n",
      "Epoch 15/100\n",
      "140000/140000 [==============================] - 10s 70us/step - loss: 0.2202 - binary_accuracy: 0.9187 - val_loss: 0.2293 - val_binary_accuracy: 0.9144\n",
      "Epoch 16/100\n",
      "140000/140000 [==============================] - 10s 70us/step - loss: 0.2202 - binary_accuracy: 0.9187 - val_loss: 0.2293 - val_binary_accuracy: 0.9144\n",
      "\n",
      "Epoch 00016: ReduceLROnPlateau reducing learning rate to 1.000000082740371e-08.\n",
      "Epoch 17/100\n",
      "140000/140000 [==============================] - 10s 71us/step - loss: 0.2202 - binary_accuracy: 0.9187 - val_loss: 0.2293 - val_binary_accuracy: 0.9144\n",
      "Epoch 18/100\n",
      "140000/140000 [==============================] - 10s 70us/step - loss: 0.2202 - binary_accuracy: 0.9187 - val_loss: 0.2293 - val_binary_accuracy: 0.9144\n",
      "Epoch 19/100\n",
      "140000/140000 [==============================] - 10s 71us/step - loss: 0.2202 - binary_accuracy: 0.9187 - val_loss: 0.2293 - val_binary_accuracy: 0.9144\n",
      "Epoch 20/100\n",
      "140000/140000 [==============================] - 10s 71us/step - loss: 0.2202 - binary_accuracy: 0.9187 - val_loss: 0.2293 - val_binary_accuracy: 0.9144\n",
      "Epoch 21/100\n",
      "140000/140000 [==============================] - 10s 71us/step - loss: 0.2202 - binary_accuracy: 0.9187 - val_loss: 0.2293 - val_binary_accuracy: 0.9144\n",
      "\n",
      "Epoch 00021: ReduceLROnPlateau reducing learning rate to 1.000000082740371e-09.\n",
      "Epoch 22/100\n",
      "140000/140000 [==============================] - 10s 71us/step - loss: 0.2202 - binary_accuracy: 0.9187 - val_loss: 0.2293 - val_binary_accuracy: 0.9144\n",
      "Epoch 23/100\n",
      "140000/140000 [==============================] - 10s 71us/step - loss: 0.2202 - binary_accuracy: 0.9187 - val_loss: 0.2293 - val_binary_accuracy: 0.9144\n",
      "Epoch 24/100\n",
      "140000/140000 [==============================] - 10s 71us/step - loss: 0.2202 - binary_accuracy: 0.9187 - val_loss: 0.2293 - val_binary_accuracy: 0.9144 - bi - ETA: 1s - loss: 0.2\n",
      "Epoch 25/100\n",
      "140000/140000 [==============================] - 10s 71us/step - loss: 0.2202 - binary_accuracy: 0.9187 - val_loss: 0.2293 - val_binary_accuracy: 0.9144\n",
      "Epoch 26/100\n",
      "140000/140000 [==============================] - 10s 71us/step - loss: 0.2202 - binary_accuracy: 0.9187 - val_loss: 0.2293 - val_binary_accuracy: 0.9144\n",
      "\n",
      "Epoch 00026: ReduceLROnPlateau reducing learning rate to 1.000000082740371e-10.\n",
      "Epoch 27/100\n",
      "140000/140000 [==============================] - 10s 71us/step - loss: 0.2202 - binary_accuracy: 0.9187 - val_loss: 0.2293 - val_binary_accuracy: 0.9144\n",
      "Epoch 28/100\n",
      "140000/140000 [==============================] - 10s 71us/step - loss: 0.2202 - binary_accuracy: 0.9187 - val_loss: 0.2293 - val_binary_accuracy: 0.9144\n",
      "Epoch 29/100\n",
      "140000/140000 [==============================] - 10s 71us/step - loss: 0.2202 - binary_accuracy: 0.9187 - val_loss: 0.2293 - val_binary_accuracy: 0.9144\n",
      "Epoch 30/100\n",
      "140000/140000 [==============================] - 10s 71us/step - loss: 0.2202 - binary_accuracy: 0.9187 - val_loss: 0.2293 - val_binary_accuracy: 0.9144\n",
      "Epoch 31/100\n",
      "140000/140000 [==============================] - 10s 71us/step - loss: 0.2202 - binary_accuracy: 0.9187 - val_loss: 0.2293 - val_binary_accuracy: 0.9144\n",
      "\n",
      "Epoch 00031: ReduceLROnPlateau reducing learning rate to 1.000000082740371e-11.\n",
      "Epoch 32/100\n",
      "140000/140000 [==============================] - 10s 72us/step - loss: 0.2202 - binary_accuracy: 0.9187 - val_loss: 0.2293 - val_binary_accuracy: 0.9144\n",
      "Epoch 33/100\n",
      "140000/140000 [==============================] - 10s 71us/step - loss: 0.2202 - binary_accuracy: 0.9187 - val_loss: 0.2293 - val_binary_accuracy: 0.9144\n",
      "Epoch 34/100\n",
      "140000/140000 [==============================] - 10s 71us/step - loss: 0.2202 - binary_accuracy: 0.9187 - val_loss: 0.2293 - val_binary_accuracy: 0.9144\n",
      "Epoch 35/100\n",
      "140000/140000 [==============================] - 10s 71us/step - loss: 0.2202 - binary_accuracy: 0.9187 - val_loss: 0.2293 - val_binary_accuracy: 0.9144\n",
      "Epoch 36/100\n",
      "140000/140000 [==============================] - 10s 71us/step - loss: 0.2202 - binary_accuracy: 0.9187 - val_loss: 0.2293 - val_binary_accuracy: 0.9144\n",
      "\n",
      "Epoch 00036: ReduceLROnPlateau reducing learning rate to 1.000000082740371e-12.\n",
      "Epoch 37/100\n",
      "140000/140000 [==============================] - 10s 71us/step - loss: 0.2202 - binary_accuracy: 0.9187 - val_loss: 0.2293 - val_binary_accuracy: 0.9144\n",
      "Epoch 38/100\n",
      "140000/140000 [==============================] - 10s 72us/step - loss: 0.2202 - binary_accuracy: 0.9187 - val_loss: 0.2293 - val_binary_accuracy: 0.9144\n",
      "Epoch 39/100\n",
      "140000/140000 [==============================] - 10s 72us/step - loss: 0.2202 - binary_accuracy: 0.9187 - val_loss: 0.2293 - val_binary_accuracy: 0.9144\n",
      "Epoch 40/100\n",
      "140000/140000 [==============================] - 10s 72us/step - loss: 0.2202 - binary_accuracy: 0.9187 - val_loss: 0.2293 - val_binary_accuracy: 0.9144\n",
      "Epoch 41/100\n",
      "140000/140000 [==============================] - 10s 72us/step - loss: 0.2202 - binary_accuracy: 0.9187 - val_loss: 0.2293 - val_binary_accuracy: 0.9144\n",
      "\n",
      "Epoch 00041: ReduceLROnPlateau reducing learning rate to 1.0000001044244145e-13.\n",
      "Epoch 42/100\n",
      "140000/140000 [==============================] - 10s 72us/step - loss: 0.2202 - binary_accuracy: 0.9187 - val_loss: 0.2293 - val_binary_accuracy: 0.9144\n",
      "Epoch 43/100\n",
      "140000/140000 [==============================] - 10s 72us/step - loss: 0.2202 - binary_accuracy: 0.9187 - val_loss: 0.2293 - val_binary_accuracy: 0.9144\n",
      "Epoch 44/100\n",
      "140000/140000 [==============================] - 10s 73us/step - loss: 0.2202 - binary_accuracy: 0.9187 - val_loss: 0.2293 - val_binary_accuracy: 0.9144\n",
      "Epoch 45/100\n",
      "140000/140000 [==============================] - 10s 68us/step - loss: 0.2202 - binary_accuracy: 0.9187 - val_loss: 0.2293 - val_binary_accuracy: 0.9144\n",
      "Epoch 46/100\n",
      "140000/140000 [==============================] - 9s 66us/step - loss: 0.2202 - binary_accuracy: 0.9187 - val_loss: 0.2293 - val_binary_accuracy: 0.9144\n",
      "\n",
      "Epoch 00046: ReduceLROnPlateau reducing learning rate to 1.0000001179769417e-14.\n",
      "Epoch 47/100\n",
      "140000/140000 [==============================] - 9s 66us/step - loss: 0.2202 - binary_accuracy: 0.9187 - val_loss: 0.2293 - val_binary_accuracy: 0.9144\n",
      "Epoch 48/100\n",
      "140000/140000 [==============================] - 9s 67us/step - loss: 0.2202 - binary_accuracy: 0.9187 - val_loss: 0.2293 - val_binary_accuracy: 0.9144\n",
      "Epoch 49/100\n",
      "140000/140000 [==============================] - 9s 67us/step - loss: 0.2202 - binary_accuracy: 0.9187 - val_loss: 0.2293 - val_binary_accuracy: 0.9144\n",
      "Epoch 50/100\n",
      "140000/140000 [==============================] - 9s 67us/step - loss: 0.2202 - binary_accuracy: 0.9187 - val_loss: 0.2293 - val_binary_accuracy: 0.9144\n",
      "Epoch 51/100\n",
      "140000/140000 [==============================] - 9s 68us/step - loss: 0.2202 - binary_accuracy: 0.9187 - val_loss: 0.2293 - val_binary_accuracy: 0.9144\n",
      "\n",
      "Epoch 00051: ReduceLROnPlateau reducing learning rate to 1.0000001518582595e-15.\n",
      "Epoch 52/100\n",
      "140000/140000 [==============================] - 9s 67us/step - loss: 0.2202 - binary_accuracy: 0.9187 - val_loss: 0.2293 - val_binary_accuracy: 0.9144\n",
      "Epoch 53/100\n",
      "140000/140000 [==============================] - 9s 67us/step - loss: 0.2202 - binary_accuracy: 0.9187 - val_loss: 0.2293 - val_binary_accuracy: 0.9144\n",
      "Epoch 54/100\n",
      "140000/140000 [==============================] - 9s 67us/step - loss: 0.2202 - binary_accuracy: 0.9187 - val_loss: 0.2293 - val_binary_accuracy: 0.9144\n",
      "Epoch 55/100\n",
      "140000/140000 [==============================] - 9s 67us/step - loss: 0.2202 - binary_accuracy: 0.9187 - val_loss: 0.2293 - val_binary_accuracy: 0.9144\n",
      "Epoch 56/100\n",
      "140000/140000 [==============================] - 9s 67us/step - loss: 0.2202 - binary_accuracy: 0.9187 - val_loss: 0.2293 - val_binary_accuracy: 0.9144\n",
      "\n",
      "Epoch 00056: ReduceLROnPlateau reducing learning rate to 1.0000001095066122e-16.\n",
      "Epoch 57/100\n",
      "140000/140000 [==============================] - 10s 68us/step - loss: 0.2202 - binary_accuracy: 0.9187 - val_loss: 0.2293 - val_binary_accuracy: 0.9144\n",
      "Epoch 58/100\n",
      "140000/140000 [==============================] - 9s 67us/step - loss: 0.2202 - binary_accuracy: 0.9187 - val_loss: 0.2293 - val_binary_accuracy: 0.9144\n",
      "Epoch 59/100\n",
      "140000/140000 [==============================] - 9s 68us/step - loss: 0.2202 - binary_accuracy: 0.9187 - val_loss: 0.2293 - val_binary_accuracy: 0.9144\n",
      "Epoch 60/100\n",
      "140000/140000 [==============================] - 9s 68us/step - loss: 0.2202 - binary_accuracy: 0.9187 - val_loss: 0.2293 - val_binary_accuracy: 0.9144\n",
      "Epoch 61/100\n",
      "140000/140000 [==============================] - 10s 68us/step - loss: 0.2202 - binary_accuracy: 0.9187 - val_loss: 0.2293 - val_binary_accuracy: 0.9144\n",
      "\n",
      "Epoch 00061: ReduceLROnPlateau reducing learning rate to 1.0000000830368326e-17.\n",
      "Epoch 62/100\n",
      "140000/140000 [==============================] - 9s 67us/step - loss: 0.2202 - binary_accuracy: 0.9187 - val_loss: 0.2293 - val_binary_accuracy: 0.9144\n",
      "Epoch 63/100\n",
      "140000/140000 [==============================] - 9s 67us/step - loss: 0.2202 - binary_accuracy: 0.9187 - val_loss: 0.2293 - val_binary_accuracy: 0.9144\n",
      "Epoch 64/100\n",
      "140000/140000 [==============================] - 10s 69us/step - loss: 0.2202 - binary_accuracy: 0.9187 - val_loss: 0.2293 - val_binary_accuracy: 0.9144\n",
      "Epoch 65/100\n",
      "140000/140000 [==============================] - 10s 68us/step - loss: 0.2202 - binary_accuracy: 0.9187 - val_loss: 0.2293 - val_binary_accuracy: 0.9144\n",
      "Epoch 66/100\n",
      "140000/140000 [==============================] - 9s 67us/step - loss: 0.2202 - binary_accuracy: 0.9187 - val_loss: 0.2293 - val_binary_accuracy: 0.9144\n",
      "\n",
      "Epoch 00066: ReduceLROnPlateau reducing learning rate to 1.0000000664932204e-18.\n",
      "Epoch 67/100\n",
      "140000/140000 [==============================] - 10s 68us/step - loss: 0.2202 - binary_accuracy: 0.9187 - val_loss: 0.2293 - val_binary_accuracy: 0.9144\n",
      "Epoch 68/100\n",
      "140000/140000 [==============================] - 10s 68us/step - loss: 0.2202 - binary_accuracy: 0.9187 - val_loss: 0.2293 - val_binary_accuracy: 0.91442202 - binary_accuracy: 0\n",
      "Epoch 69/100\n",
      "140000/140000 [==============================] - 10s 69us/step - loss: 0.2202 - binary_accuracy: 0.9187 - val_loss: 0.2293 - val_binary_accuracy: 0.9144\n",
      "Epoch 70/100\n",
      "140000/140000 [==============================] - 10s 69us/step - loss: 0.2202 - binary_accuracy: 0.9187 - val_loss: 0.2293 - val_binary_accuracy: 0.9144\n",
      "Epoch 71/100\n",
      "140000/140000 [==============================] - 10s 68us/step - loss: 0.2202 - binary_accuracy: 0.9187 - val_loss: 0.2293 - val_binary_accuracy: 0.9144\n",
      "\n",
      "Epoch 00071: ReduceLROnPlateau reducing learning rate to 1.000000045813705e-19.\n",
      "Epoch 72/100\n",
      "140000/140000 [==============================] - 9s 68us/step - loss: 0.2202 - binary_accuracy: 0.9187 - val_loss: 0.2293 - val_binary_accuracy: 0.9144\n",
      "Epoch 73/100\n",
      "140000/140000 [==============================] - 9s 68us/step - loss: 0.2202 - binary_accuracy: 0.9187 - val_loss: 0.2293 - val_binary_accuracy: 0.9144\n",
      "Epoch 74/100\n",
      "140000/140000 [==============================] - 10s 68us/step - loss: 0.2202 - binary_accuracy: 0.9187 - val_loss: 0.2293 - val_binary_accuracy: 0.9144\n",
      "Epoch 75/100\n",
      "140000/140000 [==============================] - 10s 68us/step - loss: 0.2202 - binary_accuracy: 0.9187 - val_loss: 0.2293 - val_binary_accuracy: 0.9144\n",
      "Epoch 76/100\n",
      "140000/140000 [==============================] - 9s 68us/step - loss: 0.2202 - binary_accuracy: 0.9187 - val_loss: 0.2293 - val_binary_accuracy: 0.9144\n",
      "\n",
      "Epoch 00076: ReduceLROnPlateau reducing learning rate to 1.000000032889008e-20.\n",
      "Epoch 77/100\n",
      "140000/140000 [==============================] - 10s 69us/step - loss: 0.2202 - binary_accuracy: 0.9187 - val_loss: 0.2293 - val_binary_accuracy: 0.9144\n",
      "Epoch 78/100\n",
      "140000/140000 [==============================] - 10s 68us/step - loss: 0.2202 - binary_accuracy: 0.9187 - val_loss: 0.2293 - val_binary_accuracy: 0.9144\n",
      "Epoch 79/100\n",
      "140000/140000 [==============================] - 10s 69us/step - loss: 0.2202 - binary_accuracy: 0.9187 - val_loss: 0.2293 - val_binary_accuracy: 0.9144\n",
      "Epoch 80/100\n",
      "140000/140000 [==============================] - 10s 69us/step - loss: 0.2202 - binary_accuracy: 0.9187 - val_loss: 0.2293 - val_binary_accuracy: 0.9144\n",
      "Epoch 81/100\n",
      "140000/140000 [==============================] - 10s 68us/step - loss: 0.2202 - binary_accuracy: 0.9187 - val_loss: 0.2293 - val_binary_accuracy: 0.9144\n",
      "\n",
      "Epoch 00081: ReduceLROnPlateau reducing learning rate to 1.0000000490448793e-21.\n",
      "Epoch 82/100\n",
      "140000/140000 [==============================] - 10s 69us/step - loss: 0.2202 - binary_accuracy: 0.9187 - val_loss: 0.2293 - val_binary_accuracy: 0.9144\n",
      "Epoch 83/100\n",
      "140000/140000 [==============================] - 10s 69us/step - loss: 0.2202 - binary_accuracy: 0.9187 - val_loss: 0.2293 - val_binary_accuracy: 0.9144\n",
      "Epoch 84/100\n",
      "140000/140000 [==============================] - 10s 69us/step - loss: 0.2202 - binary_accuracy: 0.9187 - val_loss: 0.2293 - val_binary_accuracy: 0.9144\n",
      "Epoch 85/100\n",
      "140000/140000 [==============================] - 10s 69us/step - loss: 0.2202 - binary_accuracy: 0.9187 - val_loss: 0.2293 - val_binary_accuracy: 0.9144\n",
      "Epoch 86/100\n",
      "140000/140000 [==============================] - 10s 69us/step - loss: 0.2202 - binary_accuracy: 0.9187 - val_loss: 0.2293 - val_binary_accuracy: 0.9144\n",
      "\n",
      "Epoch 00086: ReduceLROnPlateau reducing learning rate to 1.0000000692397185e-22.\n",
      "Epoch 87/100\n",
      "140000/140000 [==============================] - 10s 69us/step - loss: 0.2202 - binary_accuracy: 0.9187 - val_loss: 0.2293 - val_binary_accuracy: 0.9144\n",
      "Epoch 88/100\n",
      "140000/140000 [==============================] - 10s 70us/step - loss: 0.2202 - binary_accuracy: 0.9187 - val_loss: 0.2293 - val_binary_accuracy: 0.9144\n",
      "Epoch 89/100\n"
     ]
    },
    {
     "name": "stdout",
     "output_type": "stream",
     "text": [
      "140000/140000 [==============================] - 10s 68us/step - loss: 0.2202 - binary_accuracy: 0.9187 - val_loss: 0.2293 - val_binary_accuracy: 0.9144\n",
      "Epoch 90/100\n",
      "140000/140000 [==============================] - 9s 66us/step - loss: 0.2202 - binary_accuracy: 0.9187 - val_loss: 0.2293 - val_binary_accuracy: 0.9144\n",
      "Epoch 91/100\n",
      "140000/140000 [==============================] - 9s 66us/step - loss: 0.2202 - binary_accuracy: 0.9187 - val_loss: 0.2293 - val_binary_accuracy: 0.9144\n",
      "\n",
      "Epoch 00091: ReduceLROnPlateau reducing learning rate to 1.0000000944832675e-23.\n",
      "Epoch 92/100\n",
      "140000/140000 [==============================] - 9s 66us/step - loss: 0.2202 - binary_accuracy: 0.9187 - val_loss: 0.2293 - val_binary_accuracy: 0.9144\n",
      "Epoch 93/100\n",
      "140000/140000 [==============================] - 9s 67us/step - loss: 0.2202 - binary_accuracy: 0.9187 - val_loss: 0.2293 - val_binary_accuracy: 0.9144\n",
      "Epoch 94/100\n",
      "140000/140000 [==============================] - 9s 67us/step - loss: 0.2202 - binary_accuracy: 0.9187 - val_loss: 0.2293 - val_binary_accuracy: 0.9144\n",
      "Epoch 95/100\n",
      "140000/140000 [==============================] - 9s 67us/step - loss: 0.2202 - binary_accuracy: 0.9187 - val_loss: 0.2293 - val_binary_accuracy: 0.9144\n",
      "Epoch 96/100\n",
      "140000/140000 [==============================] - 9s 66us/step - loss: 0.2202 - binary_accuracy: 0.9187 - val_loss: 0.2293 - val_binary_accuracy: 0.9144\n",
      "\n",
      "Epoch 00096: ReduceLROnPlateau reducing learning rate to 1.0000000787060494e-24.\n",
      "Epoch 97/100\n",
      "140000/140000 [==============================] - 9s 67us/step - loss: 0.2202 - binary_accuracy: 0.9187 - val_loss: 0.2293 - val_binary_accuracy: 0.9144\n",
      "Epoch 98/100\n",
      "140000/140000 [==============================] - 9s 67us/step - loss: 0.2202 - binary_accuracy: 0.9187 - val_loss: 0.2293 - val_binary_accuracy: 0.9144\n",
      "Epoch 99/100\n",
      "140000/140000 [==============================] - 9s 67us/step - loss: 0.2202 - binary_accuracy: 0.9187 - val_loss: 0.2293 - val_binary_accuracy: 0.9144\n",
      "Epoch 100/100\n",
      "140000/140000 [==============================] - 9s 67us/step - loss: 0.2202 - binary_accuracy: 0.9187 - val_loss: 0.2293 - val_binary_accuracy: 0.9144\n"
     ]
    },
    {
     "data": {
      "text/plain": [
       "<keras.callbacks.History at 0x16b025c2da0>"
      ]
     },
     "execution_count": 40,
     "metadata": {},
     "output_type": "execute_result"
    }
   ],
   "source": [
    "epochs = 100 # 20\n",
    "\n",
    "model.fit(x = X, \n",
    "          y = y_clf,\n",
    "          validation_split = 0.3,\n",
    "          epochs=epochs, \n",
    "          batch_size= 1024,\n",
    "          callbacks = [MCP, RLROP, CSVL],\n",
    "          verbose = 1,\n",
    "          shuffle = True)"
   ]
  },
  {
   "cell_type": "code",
   "execution_count": 84,
   "metadata": {},
   "outputs": [
    {
     "name": "stdout",
     "output_type": "stream",
     "text": [
      "200000/200000 [==============================] - 4s 18us/step\n"
     ]
    },
    {
     "data": {
      "text/plain": [
       "[0.22326479040145875, 0.91733]"
      ]
     },
     "execution_count": 84,
     "metadata": {},
     "output_type": "execute_result"
    }
   ],
   "source": [
    "# On Training Data\n",
    "model.evaluate(x = X, \n",
    "               y = y_clf,\n",
    "              batch_size = 1024)"
   ]
  },
  {
   "cell_type": "code",
   "execution_count": 85,
   "metadata": {},
   "outputs": [],
   "source": [
    "best_model = load_model(\"../results/BestModel1.h5\")"
   ]
  },
  {
   "cell_type": "code",
   "execution_count": 86,
   "metadata": {},
   "outputs": [
    {
     "name": "stdout",
     "output_type": "stream",
     "text": [
      "200000/200000 [==============================] - 4s 18us/step\n"
     ]
    },
    {
     "data": {
      "text/plain": [
       "[0.22326479040145875, 0.91733]"
      ]
     },
     "execution_count": 86,
     "metadata": {},
     "output_type": "execute_result"
    }
   ],
   "source": [
    "# On Training Data\n",
    "best_model.evaluate(x = X, \n",
    "               y = y_clf,\n",
    "              batch_size = 1024)"
   ]
  },
  {
   "cell_type": "code",
   "execution_count": 87,
   "metadata": {},
   "outputs": [],
   "source": [
    "old_model = model\n",
    "model = best_model"
   ]
  },
  {
   "cell_type": "code",
   "execution_count": 90,
   "metadata": {},
   "outputs": [],
   "source": [
    "y_preds = model.predict(X, batch_size = 1024)\n",
    "\n",
    "y_test_preds = model.predict(X_test, batch_size = 1024)"
   ]
  },
  {
   "cell_type": "code",
   "execution_count": 91,
   "metadata": {},
   "outputs": [
    {
     "data": {
      "text/plain": [
       "(200000, 1)"
      ]
     },
     "execution_count": 91,
     "metadata": {},
     "output_type": "execute_result"
    }
   ],
   "source": [
    "y_preds.shape"
   ]
  },
  {
   "cell_type": "code",
   "execution_count": 92,
   "metadata": {},
   "outputs": [
    {
     "data": {
      "text/plain": [
       "(array([0., 0., 0., ..., 0., 0., 0.]),\n",
       " array([0.02684054, 0.7223495 , 0.04017243, ..., 0.09523162, 0.02365717,\n",
       "        0.00561482], dtype=float32))"
      ]
     },
     "execution_count": 92,
     "metadata": {},
     "output_type": "execute_result"
    }
   ],
   "source": [
    "(y_clf,y_preds.reshape(y_preds.shape[0],))"
   ]
  },
  {
   "cell_type": "code",
   "execution_count": 93,
   "metadata": {},
   "outputs": [
    {
     "data": {
      "text/plain": [
       "0.8720867789797286"
      ]
     },
     "execution_count": 93,
     "metadata": {},
     "output_type": "execute_result"
    }
   ],
   "source": [
    "from sklearn.metrics import roc_auc_score\n",
    "\n",
    "roc_auc_score(y_clf,y_preds.reshape(y_preds.shape[0],))"
   ]
  },
  {
   "cell_type": "code",
   "execution_count": 94,
   "metadata": {},
   "outputs": [],
   "source": [
    "from keras.models import load_model\n",
    "\n",
    "old_model.save('../results/Trial1.h5')"
   ]
  },
  {
   "cell_type": "code",
   "execution_count": 95,
   "metadata": {},
   "outputs": [],
   "source": [
    "# How to threshold for an imbalanced problem\n",
    "def Find_Optimal_Cutoff(target, predicted):\n",
    "    \"\"\" Find the optimal probability cutoff point for a classification model related to event rate\n",
    "    Parameters\n",
    "    ----------\n",
    "    target : Matrix with dependent or target data, where rows are observations\n",
    "\n",
    "    predicted : Matrix with predicted data, where rows are observations\n",
    "\n",
    "    Returns\n",
    "    -------     \n",
    "    list type, with optimal cutoff value\n",
    "\n",
    "    \"\"\"\n",
    "    fpr, tpr, threshold = roc_curve(target, predicted)\n",
    "    i = np.arange(len(tpr)) \n",
    "    roc = pd.DataFrame({'tf' : pd.Series(tpr-(1-fpr), index=i), 'threshold' : pd.Series(threshold, index=i)})\n",
    "    roc_t = roc.iloc[(roc.tf-0).abs().argsort()[:1]]\n",
    "\n",
    "    return list(roc_t['threshold']) "
   ]
  },
  {
   "cell_type": "code",
   "execution_count": 97,
   "metadata": {},
   "outputs": [
    {
     "data": {
      "text/plain": [
       "0.09574279189109802"
      ]
     },
     "execution_count": 97,
     "metadata": {},
     "output_type": "execute_result"
    }
   ],
   "source": [
    "threshold = Find_Optimal_Cutoff(y_clf, y_preds)[0]\n",
    "threshold"
   ]
  },
  {
   "cell_type": "code",
   "execution_count": 98,
   "metadata": {},
   "outputs": [],
   "source": [
    "y_p = np.where(y_preds>threshold,1,0).reshape(-1)\n",
    "y_test_p = np.where(y_test_preds>threshold,1,0).reshape(-1)"
   ]
  },
  {
   "cell_type": "code",
   "execution_count": 99,
   "metadata": {},
   "outputs": [
    {
     "data": {
      "text/plain": [
       "array([[142280,  37622],\n",
       "       [  4204,  15894]], dtype=int64)"
      ]
     },
     "execution_count": 99,
     "metadata": {},
     "output_type": "execute_result"
    }
   ],
   "source": [
    "confusion_matrix(y_clf, y_p)"
   ]
  },
  {
   "cell_type": "code",
   "execution_count": 100,
   "metadata": {},
   "outputs": [
    {
     "data": {
      "text/plain": [
       "0.79087"
      ]
     },
     "execution_count": 100,
     "metadata": {},
     "output_type": "execute_result"
    }
   ],
   "source": [
    "np.array(y_clf == y_p).mean()"
   ]
  },
  {
   "cell_type": "code",
   "execution_count": 101,
   "metadata": {},
   "outputs": [
    {
     "data": {
      "text/plain": [
       "158174"
      ]
     },
     "execution_count": 101,
     "metadata": {},
     "output_type": "execute_result"
    }
   ],
   "source": [
    "accuracy_score(y_clf,y_p, normalize = False)"
   ]
  },
  {
   "cell_type": "code",
   "execution_count": 104,
   "metadata": {},
   "outputs": [],
   "source": [
    "Train_results = pd.DataFrame({'ID_code' : df['ID_code'].tolist(),'actual' : y_clf,'pred' : y_preds[:,0]})\n",
    "\n",
    "Train_results.to_csv(\"../results/TrainResults_Trial1.csv\", index = False)\n",
    "\n",
    "Test_results = pd.DataFrame({'ID_code' : df_test['ID_code'].tolist(),'target' : y_test_p})\n",
    "\n",
    "Test_results.to_csv(\"../results/TestResults_Trial1.csv\", index = False)"
   ]
  },
  {
   "cell_type": "code",
   "execution_count": 105,
   "metadata": {},
   "outputs": [
    {
     "data": {
      "text/plain": [
       "Index(['ID_code', 'actual', 'pred'], dtype='object')"
      ]
     },
     "execution_count": 105,
     "metadata": {},
     "output_type": "execute_result"
    }
   ],
   "source": [
    "Train_results.columns"
   ]
  },
  {
   "cell_type": "code",
   "execution_count": 106,
   "metadata": {},
   "outputs": [
    {
     "data": {
      "text/plain": [
       "Index(['ID_code', 'target'], dtype='object')"
      ]
     },
     "execution_count": 106,
     "metadata": {},
     "output_type": "execute_result"
    }
   ],
   "source": [
    "Test_results.columns"
   ]
  },
  {
   "cell_type": "code",
   "execution_count": 108,
   "metadata": {},
   "outputs": [
    {
     "data": {
      "text/html": [
       "<div>\n",
       "<style scoped>\n",
       "    .dataframe tbody tr th:only-of-type {\n",
       "        vertical-align: middle;\n",
       "    }\n",
       "\n",
       "    .dataframe tbody tr th {\n",
       "        vertical-align: top;\n",
       "    }\n",
       "\n",
       "    .dataframe thead th {\n",
       "        text-align: right;\n",
       "    }\n",
       "</style>\n",
       "<table border=\"1\" class=\"dataframe\">\n",
       "  <thead>\n",
       "    <tr style=\"text-align: right;\">\n",
       "      <th></th>\n",
       "      <th>ID_code</th>\n",
       "      <th>actual</th>\n",
       "      <th>pred</th>\n",
       "    </tr>\n",
       "  </thead>\n",
       "  <tbody>\n",
       "    <tr>\n",
       "      <th>0</th>\n",
       "      <td>train_0</td>\n",
       "      <td>0.0</td>\n",
       "      <td>0.026841</td>\n",
       "    </tr>\n",
       "    <tr>\n",
       "      <th>1</th>\n",
       "      <td>train_1</td>\n",
       "      <td>0.0</td>\n",
       "      <td>0.722350</td>\n",
       "    </tr>\n",
       "    <tr>\n",
       "      <th>2</th>\n",
       "      <td>train_2</td>\n",
       "      <td>0.0</td>\n",
       "      <td>0.040172</td>\n",
       "    </tr>\n",
       "    <tr>\n",
       "      <th>3</th>\n",
       "      <td>train_3</td>\n",
       "      <td>0.0</td>\n",
       "      <td>0.244595</td>\n",
       "    </tr>\n",
       "    <tr>\n",
       "      <th>4</th>\n",
       "      <td>train_4</td>\n",
       "      <td>0.0</td>\n",
       "      <td>0.084650</td>\n",
       "    </tr>\n",
       "  </tbody>\n",
       "</table>\n",
       "</div>"
      ],
      "text/plain": [
       "   ID_code  actual      pred\n",
       "0  train_0     0.0  0.026841\n",
       "1  train_1     0.0  0.722350\n",
       "2  train_2     0.0  0.040172\n",
       "3  train_3     0.0  0.244595\n",
       "4  train_4     0.0  0.084650"
      ]
     },
     "execution_count": 108,
     "metadata": {},
     "output_type": "execute_result"
    }
   ],
   "source": [
    "Train_results.head()"
   ]
  },
  {
   "cell_type": "code",
   "execution_count": 107,
   "metadata": {},
   "outputs": [
    {
     "data": {
      "text/html": [
       "<div>\n",
       "<style scoped>\n",
       "    .dataframe tbody tr th:only-of-type {\n",
       "        vertical-align: middle;\n",
       "    }\n",
       "\n",
       "    .dataframe tbody tr th {\n",
       "        vertical-align: top;\n",
       "    }\n",
       "\n",
       "    .dataframe thead th {\n",
       "        text-align: right;\n",
       "    }\n",
       "</style>\n",
       "<table border=\"1\" class=\"dataframe\">\n",
       "  <thead>\n",
       "    <tr style=\"text-align: right;\">\n",
       "      <th></th>\n",
       "      <th>ID_code</th>\n",
       "      <th>target</th>\n",
       "    </tr>\n",
       "  </thead>\n",
       "  <tbody>\n",
       "    <tr>\n",
       "      <th>0</th>\n",
       "      <td>test_0</td>\n",
       "      <td>1</td>\n",
       "    </tr>\n",
       "    <tr>\n",
       "      <th>1</th>\n",
       "      <td>test_1</td>\n",
       "      <td>1</td>\n",
       "    </tr>\n",
       "    <tr>\n",
       "      <th>2</th>\n",
       "      <td>test_2</td>\n",
       "      <td>0</td>\n",
       "    </tr>\n",
       "    <tr>\n",
       "      <th>3</th>\n",
       "      <td>test_3</td>\n",
       "      <td>1</td>\n",
       "    </tr>\n",
       "    <tr>\n",
       "      <th>4</th>\n",
       "      <td>test_4</td>\n",
       "      <td>0</td>\n",
       "    </tr>\n",
       "  </tbody>\n",
       "</table>\n",
       "</div>"
      ],
      "text/plain": [
       "  ID_code  target\n",
       "0  test_0       1\n",
       "1  test_1       1\n",
       "2  test_2       0\n",
       "3  test_3       1\n",
       "4  test_4       0"
      ]
     },
     "execution_count": 107,
     "metadata": {},
     "output_type": "execute_result"
    }
   ],
   "source": [
    "Test_results.head()"
   ]
  }
 ],
 "metadata": {
  "kernelspec": {
   "display_name": "Python 3",
   "language": "python",
   "name": "python3"
  },
  "language_info": {
   "codemirror_mode": {
    "name": "ipython",
    "version": 3
   },
   "file_extension": ".py",
   "mimetype": "text/x-python",
   "name": "python",
   "nbconvert_exporter": "python",
   "pygments_lexer": "ipython3",
   "version": "3.6.8"
  }
 },
 "nbformat": 4,
 "nbformat_minor": 2
}
