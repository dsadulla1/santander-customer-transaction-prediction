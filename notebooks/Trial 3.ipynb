{
 "cells": [
  {
   "cell_type": "markdown",
   "metadata": {},
   "source": [
    "https://mlwhiz.com/blog/2017/12/28/hyperopt_tuning_ml_model/"
   ]
  },
  {
   "cell_type": "code",
   "execution_count": 20,
   "metadata": {},
   "outputs": [],
   "source": [
    "import numpy as np\n",
    "import xgboost as xgb\n",
    "import pandas as pd\n",
    "from sklearn.preprocessing import MinMaxScaler\n",
    "from sklearn.model_selection import train_test_split\n",
    "from hyperopt import hp, fmin, tpe, STATUS_OK, Trials\n",
    "from sklearn.metrics import roc_auc_score, roc_curve, confusion_matrix, accuracy_score\n",
    "from matplotlib import pyplot"
   ]
  },
  {
   "cell_type": "code",
   "execution_count": 21,
   "metadata": {},
   "outputs": [],
   "source": [
    "df = pd.read_csv(\"../data/train.csv\", sep=\",\")\n",
    "X = df[df.columns[2:]].astype(float).values\n",
    "Y = np.array(df['target']).astype(float)"
   ]
  },
  {
   "cell_type": "code",
   "execution_count": 22,
   "metadata": {},
   "outputs": [
    {
     "name": "stdout",
     "output_type": "stream",
     "text": [
      "(140000, 200)\n",
      "(140000,)\n",
      "(60000, 200)\n",
      "(60000,)\n"
     ]
    }
   ],
   "source": [
    "scaler = MinMaxScaler(feature_range=(0, 1))\n",
    "X = scaler.fit_transform(X)\n",
    "\n",
    "#X_train, Y_train, X_test, Y_test = X[:-60000,:], Y[:-60000], X[-60000:,:], Y[-60000:]\n",
    "X_train, X_test, Y_train, Y_test = train_test_split(X, Y, test_size=0.3, shuffle = True, random_state=90, stratify = Y)\n",
    "\n",
    "print(X_train.shape)\n",
    "print(Y_train.shape)\n",
    "print(X_test.shape)\n",
    "print(Y_test.shape)"
   ]
  },
  {
   "cell_type": "code",
   "execution_count": 23,
   "metadata": {},
   "outputs": [],
   "source": [
    "def objective(space):\n",
    "    print(space)\n",
    "    clf = xgb.XGBClassifier(n_estimators =1000,\n",
    "                            n_jobs = 3,\n",
    "                            objective='binary:logistic', \n",
    "                            colsample_bytree=space['colsample_bytree'],\n",
    "                            learning_rate = .3,\n",
    "                            max_depth = int(space['max_depth']),\n",
    "                            min_child_weight = space['min_child_weight'],\n",
    "                            subsample = space['subsample'],\n",
    "                            gamma = space['gamma'],\n",
    "                            reg_lambda = space['reg_lambda'],)\n",
    "\n",
    "    eval_set  = [( X_test, Y_test)]\n",
    "\n",
    "    clf.fit(X_train, Y_train,\n",
    "            eval_set=eval_set, \n",
    "            eval_metric=\"auc\",\n",
    "            early_stopping_rounds=10,\n",
    "            verbose=False)\n",
    "\n",
    "    pred = clf.predict(X_test)\n",
    "    auc_score = roc_auc_score(Y_test, pred)\n",
    "    print(\"SCORE:\", auc_score)\n",
    "    #change the metric if you like\n",
    "    return {'loss':-auc_score, 'status': STATUS_OK}"
   ]
  },
  {
   "cell_type": "code",
   "execution_count": 24,
   "metadata": {},
   "outputs": [],
   "source": [
    "space ={'max_depth': hp.quniform(\"x_max_depth\", 4, 16, 1),\n",
    "        'min_child_weight': hp.quniform ('x_min_child', 1, 10, 1),\n",
    "        'subsample': hp.uniform ('x_subsample', 0.7, 1),\n",
    "        'gamma' : hp.uniform ('x_gamma', 0.1,0.5),\n",
    "        'colsample_bytree' : hp.uniform ('x_colsample_bytree', 0.7,1),\n",
    "        'reg_lambda' : hp.uniform ('x_reg_lambda', 0,1)\n",
    "    }"
   ]
  },
  {
   "cell_type": "code",
   "execution_count": 25,
   "metadata": {},
   "outputs": [],
   "source": [
    "#space ={'max_depth': hp.quniform(\"max_depth\", 4, 16, 1),\n",
    "#        'min_child_weight': hp.quniform ('min_child', 1, 10, 1),\n",
    "#        'subsample': hp.uniform ('subsample', 0.7, 1),\n",
    "#        'gamma' : hp.uniform ('gamma', 0.1,0.5),\n",
    "#        'colsample_bytree' : hp.uniform ('colsample_bytree', 0.7,1),\n",
    "#        'reg_lambda' : hp.uniform ('reg_lambda', 0,1)}"
   ]
  },
  {
   "cell_type": "code",
   "execution_count": 26,
   "metadata": {},
   "outputs": [
    {
     "name": "stdout",
     "output_type": "stream",
     "text": [
      "{'colsample_bytree': 0.9455889562134518, 'gamma': 0.4375702301753679, 'max_depth': 15.0, 'min_child_weight': 9.0, 'reg_lambda': 0.867296886569109, 'subsample': 0.9352506344261118}\n",
      "SCORE:                                                                                                                                                                 \n",
      "0.6241867176852215                                                                                                                                                     \n",
      "{'colsample_bytree': 0.8181359580629111, 'gamma': 0.12865333906282406, 'max_depth': 5.0, 'min_child_weight': 1.0, 'reg_lambda': 0.7860163519448321, 'subsample': 0.9900809000860864}\n",
      "SCORE:                                                                                                                                                                 \n",
      "0.6317149523414065                                                                                                                                                     \n",
      "100%|██████████████████████████████████████████████████████████████████████████████████████████████████| 2/2 [35:28<00:00, 1377.26s/it, best loss: -0.6317149523414065]\n",
      "{'x_colsample_bytree': 0.8181359580629111, 'x_gamma': 0.12865333906282406, 'x_max_depth': 5.0, 'x_min_child': 1.0, 'x_reg_lambda': 0.7860163519448321, 'x_subsample': 0.9900809000860864}\n"
     ]
    }
   ],
   "source": [
    "trials = Trials()\n",
    "best = fmin(fn=objective,\n",
    "            space=space,\n",
    "            algo=tpe.suggest,\n",
    "            max_evals=2,\n",
    "            trials=trials)\n",
    "\n",
    "print(best)\n",
    "# Use **best"
   ]
  },
  {
   "cell_type": "code",
   "execution_count": 27,
   "metadata": {},
   "outputs": [
    {
     "data": {
      "text/plain": [
       "{'x_colsample_bytree': 0.8181359580629111,\n",
       " 'x_gamma': 0.12865333906282406,\n",
       " 'x_max_depth': 5.0,\n",
       " 'x_min_child': 1.0,\n",
       " 'x_reg_lambda': 0.7860163519448321,\n",
       " 'x_subsample': 0.9900809000860864}"
      ]
     },
     "execution_count": 27,
     "metadata": {},
     "output_type": "execute_result"
    }
   ],
   "source": [
    "best"
   ]
  },
  {
   "cell_type": "code",
   "execution_count": 29,
   "metadata": {
    "scrolled": true
   },
   "outputs": [
    {
     "name": "stdout",
     "output_type": "stream",
     "text": [
      "[0]\tvalidation_0-auc:0.627321\tvalidation_1-auc:0.615779\n",
      "Multiple eval metrics have been passed: 'validation_1-auc' will be used for early stopping.\n",
      "\n",
      "Will train until validation_1-auc hasn't improved in 5 rounds.\n",
      "[1]\tvalidation_0-auc:0.680439\tvalidation_1-auc:0.661029\n",
      "[2]\tvalidation_0-auc:0.705777\tvalidation_1-auc:0.687782\n",
      "[3]\tvalidation_0-auc:0.718158\tvalidation_1-auc:0.695267\n",
      "[4]\tvalidation_0-auc:0.731491\tvalidation_1-auc:0.70715\n",
      "[5]\tvalidation_0-auc:0.74581\tvalidation_1-auc:0.716727\n",
      "[6]\tvalidation_0-auc:0.755612\tvalidation_1-auc:0.725481\n",
      "[7]\tvalidation_0-auc:0.771718\tvalidation_1-auc:0.73754\n",
      "[8]\tvalidation_0-auc:0.779537\tvalidation_1-auc:0.743911\n",
      "[9]\tvalidation_0-auc:0.790642\tvalidation_1-auc:0.753551\n",
      "[10]\tvalidation_0-auc:0.797538\tvalidation_1-auc:0.758555\n",
      "[11]\tvalidation_0-auc:0.807092\tvalidation_1-auc:0.765859\n",
      "[12]\tvalidation_0-auc:0.81562\tvalidation_1-auc:0.772074\n",
      "[13]\tvalidation_0-auc:0.821565\tvalidation_1-auc:0.777692\n",
      "[14]\tvalidation_0-auc:0.826279\tvalidation_1-auc:0.781304\n",
      "[15]\tvalidation_0-auc:0.832321\tvalidation_1-auc:0.785899\n",
      "[16]\tvalidation_0-auc:0.838709\tvalidation_1-auc:0.78985\n",
      "[17]\tvalidation_0-auc:0.84382\tvalidation_1-auc:0.792564\n",
      "[18]\tvalidation_0-auc:0.849338\tvalidation_1-auc:0.795999\n",
      "[19]\tvalidation_0-auc:0.852196\tvalidation_1-auc:0.797594\n",
      "[20]\tvalidation_0-auc:0.856939\tvalidation_1-auc:0.801284\n",
      "[21]\tvalidation_0-auc:0.860883\tvalidation_1-auc:0.803641\n",
      "[22]\tvalidation_0-auc:0.864679\tvalidation_1-auc:0.80662\n",
      "[23]\tvalidation_0-auc:0.86821\tvalidation_1-auc:0.809\n",
      "[24]\tvalidation_0-auc:0.871411\tvalidation_1-auc:0.811018\n",
      "[25]\tvalidation_0-auc:0.875051\tvalidation_1-auc:0.81341\n",
      "[26]\tvalidation_0-auc:0.878655\tvalidation_1-auc:0.816211\n",
      "[27]\tvalidation_0-auc:0.882221\tvalidation_1-auc:0.818977\n",
      "[28]\tvalidation_0-auc:0.884644\tvalidation_1-auc:0.820238\n",
      "[29]\tvalidation_0-auc:0.887421\tvalidation_1-auc:0.82175\n",
      "[30]\tvalidation_0-auc:0.889914\tvalidation_1-auc:0.82288\n",
      "[31]\tvalidation_0-auc:0.892042\tvalidation_1-auc:0.824372\n",
      "[32]\tvalidation_0-auc:0.893927\tvalidation_1-auc:0.825525\n",
      "[33]\tvalidation_0-auc:0.896375\tvalidation_1-auc:0.827107\n",
      "[34]\tvalidation_0-auc:0.898373\tvalidation_1-auc:0.828135\n",
      "[35]\tvalidation_0-auc:0.899964\tvalidation_1-auc:0.829922\n",
      "[36]\tvalidation_0-auc:0.901964\tvalidation_1-auc:0.831062\n",
      "[37]\tvalidation_0-auc:0.903172\tvalidation_1-auc:0.832202\n",
      "[38]\tvalidation_0-auc:0.905162\tvalidation_1-auc:0.833527\n",
      "[39]\tvalidation_0-auc:0.907154\tvalidation_1-auc:0.834994\n",
      "[40]\tvalidation_0-auc:0.908924\tvalidation_1-auc:0.835954\n",
      "[41]\tvalidation_0-auc:0.91084\tvalidation_1-auc:0.836841\n",
      "[42]\tvalidation_0-auc:0.912555\tvalidation_1-auc:0.837932\n",
      "[43]\tvalidation_0-auc:0.913938\tvalidation_1-auc:0.838488\n",
      "[44]\tvalidation_0-auc:0.915378\tvalidation_1-auc:0.839562\n",
      "[45]\tvalidation_0-auc:0.916917\tvalidation_1-auc:0.840322\n",
      "[46]\tvalidation_0-auc:0.918224\tvalidation_1-auc:0.841427\n",
      "[47]\tvalidation_0-auc:0.919703\tvalidation_1-auc:0.842287\n",
      "[48]\tvalidation_0-auc:0.921237\tvalidation_1-auc:0.84277\n",
      "[49]\tvalidation_0-auc:0.922011\tvalidation_1-auc:0.843646\n",
      "[50]\tvalidation_0-auc:0.92377\tvalidation_1-auc:0.84418\n",
      "[51]\tvalidation_0-auc:0.925266\tvalidation_1-auc:0.844541\n",
      "[52]\tvalidation_0-auc:0.926196\tvalidation_1-auc:0.845148\n",
      "[53]\tvalidation_0-auc:0.927302\tvalidation_1-auc:0.845605\n",
      "[54]\tvalidation_0-auc:0.928235\tvalidation_1-auc:0.845831\n",
      "[55]\tvalidation_0-auc:0.929281\tvalidation_1-auc:0.846131\n",
      "[56]\tvalidation_0-auc:0.93037\tvalidation_1-auc:0.846358\n",
      "[57]\tvalidation_0-auc:0.931328\tvalidation_1-auc:0.847068\n",
      "[58]\tvalidation_0-auc:0.932351\tvalidation_1-auc:0.847566\n",
      "[59]\tvalidation_0-auc:0.933482\tvalidation_1-auc:0.848296\n",
      "[60]\tvalidation_0-auc:0.934336\tvalidation_1-auc:0.849306\n",
      "[61]\tvalidation_0-auc:0.935162\tvalidation_1-auc:0.849625\n",
      "[62]\tvalidation_0-auc:0.936103\tvalidation_1-auc:0.849921\n",
      "[63]\tvalidation_0-auc:0.936968\tvalidation_1-auc:0.85057\n",
      "[64]\tvalidation_0-auc:0.938126\tvalidation_1-auc:0.851089\n",
      "[65]\tvalidation_0-auc:0.939033\tvalidation_1-auc:0.851343\n",
      "[66]\tvalidation_0-auc:0.939855\tvalidation_1-auc:0.852041\n",
      "[67]\tvalidation_0-auc:0.940559\tvalidation_1-auc:0.852702\n",
      "[68]\tvalidation_0-auc:0.941176\tvalidation_1-auc:0.853234\n",
      "[69]\tvalidation_0-auc:0.941685\tvalidation_1-auc:0.853673\n",
      "[70]\tvalidation_0-auc:0.942486\tvalidation_1-auc:0.854157\n",
      "[71]\tvalidation_0-auc:0.943115\tvalidation_1-auc:0.854335\n",
      "[72]\tvalidation_0-auc:0.943771\tvalidation_1-auc:0.855169\n",
      "[73]\tvalidation_0-auc:0.944492\tvalidation_1-auc:0.855503\n",
      "[74]\tvalidation_0-auc:0.945265\tvalidation_1-auc:0.855745\n",
      "[75]\tvalidation_0-auc:0.945795\tvalidation_1-auc:0.856136\n",
      "[76]\tvalidation_0-auc:0.946596\tvalidation_1-auc:0.856605\n",
      "[77]\tvalidation_0-auc:0.94732\tvalidation_1-auc:0.857006\n",
      "[78]\tvalidation_0-auc:0.947977\tvalidation_1-auc:0.857372\n",
      "[79]\tvalidation_0-auc:0.948725\tvalidation_1-auc:0.858078\n",
      "[80]\tvalidation_0-auc:0.949429\tvalidation_1-auc:0.858419\n",
      "[81]\tvalidation_0-auc:0.950064\tvalidation_1-auc:0.858591\n",
      "[82]\tvalidation_0-auc:0.950644\tvalidation_1-auc:0.858814\n",
      "[83]\tvalidation_0-auc:0.951455\tvalidation_1-auc:0.858884\n",
      "[84]\tvalidation_0-auc:0.951976\tvalidation_1-auc:0.859148\n",
      "[85]\tvalidation_0-auc:0.952498\tvalidation_1-auc:0.859453\n",
      "[86]\tvalidation_0-auc:0.953125\tvalidation_1-auc:0.859795\n",
      "[87]\tvalidation_0-auc:0.953715\tvalidation_1-auc:0.859912\n",
      "[88]\tvalidation_0-auc:0.954039\tvalidation_1-auc:0.8602\n",
      "[89]\tvalidation_0-auc:0.954661\tvalidation_1-auc:0.860436\n",
      "[90]\tvalidation_0-auc:0.955353\tvalidation_1-auc:0.86091\n",
      "[91]\tvalidation_0-auc:0.95577\tvalidation_1-auc:0.861044\n",
      "[92]\tvalidation_0-auc:0.956324\tvalidation_1-auc:0.86141\n",
      "[93]\tvalidation_0-auc:0.957027\tvalidation_1-auc:0.861603\n",
      "[94]\tvalidation_0-auc:0.957516\tvalidation_1-auc:0.862086\n",
      "[95]\tvalidation_0-auc:0.9579\tvalidation_1-auc:0.862512\n",
      "[96]\tvalidation_0-auc:0.958392\tvalidation_1-auc:0.862644\n",
      "[97]\tvalidation_0-auc:0.958647\tvalidation_1-auc:0.862795\n",
      "[98]\tvalidation_0-auc:0.959028\tvalidation_1-auc:0.862854\n",
      "[99]\tvalidation_0-auc:0.959372\tvalidation_1-auc:0.86276\n",
      "[100]\tvalidation_0-auc:0.959907\tvalidation_1-auc:0.862917\n",
      "[101]\tvalidation_0-auc:0.960404\tvalidation_1-auc:0.863198\n",
      "[102]\tvalidation_0-auc:0.960899\tvalidation_1-auc:0.863519\n",
      "[103]\tvalidation_0-auc:0.961278\tvalidation_1-auc:0.86356\n",
      "[104]\tvalidation_0-auc:0.961799\tvalidation_1-auc:0.863704\n",
      "[105]\tvalidation_0-auc:0.96231\tvalidation_1-auc:0.863662\n",
      "[106]\tvalidation_0-auc:0.962787\tvalidation_1-auc:0.863846\n",
      "[107]\tvalidation_0-auc:0.963126\tvalidation_1-auc:0.863851\n",
      "[108]\tvalidation_0-auc:0.963551\tvalidation_1-auc:0.863885\n",
      "[109]\tvalidation_0-auc:0.964001\tvalidation_1-auc:0.864013\n",
      "[110]\tvalidation_0-auc:0.964309\tvalidation_1-auc:0.864184\n",
      "[111]\tvalidation_0-auc:0.964586\tvalidation_1-auc:0.864413\n",
      "[112]\tvalidation_0-auc:0.96488\tvalidation_1-auc:0.86463\n",
      "[113]\tvalidation_0-auc:0.965282\tvalidation_1-auc:0.864674\n",
      "[114]\tvalidation_0-auc:0.965566\tvalidation_1-auc:0.864849\n",
      "[115]\tvalidation_0-auc:0.966036\tvalidation_1-auc:0.865153\n",
      "[116]\tvalidation_0-auc:0.966251\tvalidation_1-auc:0.865325\n",
      "[117]\tvalidation_0-auc:0.966676\tvalidation_1-auc:0.86564\n",
      "[118]\tvalidation_0-auc:0.967065\tvalidation_1-auc:0.865602\n",
      "[119]\tvalidation_0-auc:0.967466\tvalidation_1-auc:0.865937\n",
      "[120]\tvalidation_0-auc:0.967843\tvalidation_1-auc:0.866008\n",
      "[121]\tvalidation_0-auc:0.968245\tvalidation_1-auc:0.866171\n",
      "[122]\tvalidation_0-auc:0.968596\tvalidation_1-auc:0.866282\n",
      "[123]\tvalidation_0-auc:0.968917\tvalidation_1-auc:0.866428\n",
      "[124]\tvalidation_0-auc:0.969316\tvalidation_1-auc:0.866582\n",
      "[125]\tvalidation_0-auc:0.969632\tvalidation_1-auc:0.866823\n",
      "[126]\tvalidation_0-auc:0.969942\tvalidation_1-auc:0.866925\n",
      "[127]\tvalidation_0-auc:0.970445\tvalidation_1-auc:0.866938\n",
      "[128]\tvalidation_0-auc:0.970765\tvalidation_1-auc:0.867036\n",
      "[129]\tvalidation_0-auc:0.971009\tvalidation_1-auc:0.867174\n",
      "[130]\tvalidation_0-auc:0.971226\tvalidation_1-auc:0.867302\n",
      "[131]\tvalidation_0-auc:0.971595\tvalidation_1-auc:0.8674\n",
      "[132]\tvalidation_0-auc:0.971925\tvalidation_1-auc:0.867301\n",
      "[133]\tvalidation_0-auc:0.972158\tvalidation_1-auc:0.867279\n",
      "[134]\tvalidation_0-auc:0.97243\tvalidation_1-auc:0.86737\n",
      "[135]\tvalidation_0-auc:0.972702\tvalidation_1-auc:0.867484\n",
      "[136]\tvalidation_0-auc:0.972861\tvalidation_1-auc:0.867632\n",
      "[137]\tvalidation_0-auc:0.97325\tvalidation_1-auc:0.867741\n",
      "[138]\tvalidation_0-auc:0.973573\tvalidation_1-auc:0.867785\n",
      "[139]\tvalidation_0-auc:0.973879\tvalidation_1-auc:0.867909\n",
      "[140]\tvalidation_0-auc:0.974164\tvalidation_1-auc:0.867805\n",
      "[141]\tvalidation_0-auc:0.974419\tvalidation_1-auc:0.867983\n"
     ]
    },
    {
     "name": "stdout",
     "output_type": "stream",
     "text": [
      "[142]\tvalidation_0-auc:0.974697\tvalidation_1-auc:0.868029\n",
      "[143]\tvalidation_0-auc:0.974991\tvalidation_1-auc:0.868199\n",
      "[144]\tvalidation_0-auc:0.975285\tvalidation_1-auc:0.868379\n",
      "[145]\tvalidation_0-auc:0.97545\tvalidation_1-auc:0.868358\n",
      "[146]\tvalidation_0-auc:0.975712\tvalidation_1-auc:0.868649\n",
      "[147]\tvalidation_0-auc:0.975964\tvalidation_1-auc:0.868753\n",
      "[148]\tvalidation_0-auc:0.976178\tvalidation_1-auc:0.868654\n",
      "[149]\tvalidation_0-auc:0.976423\tvalidation_1-auc:0.868736\n",
      "[150]\tvalidation_0-auc:0.976647\tvalidation_1-auc:0.868927\n",
      "[151]\tvalidation_0-auc:0.97688\tvalidation_1-auc:0.86894\n",
      "[152]\tvalidation_0-auc:0.977116\tvalidation_1-auc:0.869013\n",
      "[153]\tvalidation_0-auc:0.977353\tvalidation_1-auc:0.869203\n",
      "[154]\tvalidation_0-auc:0.977635\tvalidation_1-auc:0.869104\n",
      "[155]\tvalidation_0-auc:0.977903\tvalidation_1-auc:0.869123\n",
      "[156]\tvalidation_0-auc:0.978189\tvalidation_1-auc:0.869153\n",
      "[157]\tvalidation_0-auc:0.97854\tvalidation_1-auc:0.869053\n",
      "[158]\tvalidation_0-auc:0.978767\tvalidation_1-auc:0.868907\n",
      "Stopping. Best iteration:\n",
      "[153]\tvalidation_0-auc:0.977353\tvalidation_1-auc:0.869203\n",
      "\n"
     ]
    },
    {
     "data": {
      "text/plain": [
       "XGBClassifier(base_score=0.5, booster='gbtree', colsample_bylevel=1,\n",
       "       colsample_bytree=0.8181359580629111, gamma=0.12865333906282406,\n",
       "       learning_rate=0.3, max_delta_step=0, max_depth=5, min_child=1.0,\n",
       "       min_child_weight=1, missing=None, n_estimators=1000, n_jobs=3,\n",
       "       nthread=None, objective='binary:logistic', random_state=0,\n",
       "       reg_alpha=0, reg_lambda=0.7860163519448321, scale_pos_weight=1,\n",
       "       seed=None, silent=True, subsample=0.9900809000860864)"
      ]
     },
     "execution_count": 29,
     "metadata": {},
     "output_type": "execute_result"
    }
   ],
   "source": [
    "clf = xgb.XGBClassifier(n_estimators =1000,\n",
    "                        n_jobs = 3,\n",
    "                        objective='binary:logistic', \n",
    "                        learning_rate = .3,\n",
    "                        colsample_bytree = 0.8181359580629111,\n",
    "                        gamma = 0.12865333906282406,\n",
    "                        max_depth = 5,\n",
    "                        min_child = 1.0,\n",
    "                        reg_lambda = 0.7860163519448321,\n",
    "                        subsample = 0.9900809000860864)\n",
    "\n",
    "eval_set  = [( X_train, Y_train),( X_test, Y_test)]\n",
    "\n",
    "clf.fit(X_train, Y_train,\n",
    "        eval_set=eval_set, \n",
    "        eval_metric=\"auc\",\n",
    "        early_stopping_rounds=5,\n",
    "        verbose=True)"
   ]
  },
  {
   "cell_type": "code",
   "execution_count": 30,
   "metadata": {
    "scrolled": true
   },
   "outputs": [
    {
     "data": {
      "text/plain": [
       "0.7970577931782719"
      ]
     },
     "execution_count": 30,
     "metadata": {},
     "output_type": "execute_result"
    }
   ],
   "source": [
    "pred_train = clf.predict(X_train)\n",
    "auc_score_train = roc_auc_score(Y_train, pred_train)\n",
    "auc_score_train"
   ]
  },
  {
   "cell_type": "code",
   "execution_count": 31,
   "metadata": {
    "scrolled": true
   },
   "outputs": [
    {
     "data": {
      "text/plain": [
       "0.6317149523414065"
      ]
     },
     "execution_count": 31,
     "metadata": {},
     "output_type": "execute_result"
    }
   ],
   "source": [
    "pred_test = clf.predict(X_test)\n",
    "auc_score_test = roc_auc_score(Y_test, pred_test)\n",
    "auc_score_test"
   ]
  },
  {
   "cell_type": "code",
   "execution_count": 32,
   "metadata": {
    "scrolled": true
   },
   "outputs": [
    {
     "data": {
      "text/plain": [
       "0.7474581018197434"
      ]
     },
     "execution_count": 32,
     "metadata": {},
     "output_type": "execute_result"
    }
   ],
   "source": [
    "pred = clf.predict(X)\n",
    "auc_score = roc_auc_score(Y, pred)\n",
    "auc_score"
   ]
  },
  {
   "cell_type": "code",
   "execution_count": 33,
   "metadata": {},
   "outputs": [
    {
     "data": {
      "image/png": "[encoded data removed]",
      "text/plain": [
       "<Figure size 432x288 with 1 Axes>"
      ]
     },
     "metadata": {
      "needs_background": "light"
     },
     "output_type": "display_data"
    }
   ],
   "source": [
    "# calculate roc curve\n",
    "fpr, tpr, thresholds = roc_curve(Y_train, pred_train)\n",
    "# plot no skill\n",
    "pyplot.plot([0, 1], [0, 1], linestyle='--')\n",
    "# plot the roc curve for the model\n",
    "pyplot.plot(fpr, tpr, marker='.')\n",
    "# show the plot\n",
    "pyplot.show()"
   ]
  },
  {
   "cell_type": "code",
   "execution_count": 34,
   "metadata": {},
   "outputs": [
    {
     "data": {
      "image/png": "[encoded data removed]",
      "text/plain": [
       "<Figure size 432x288 with 1 Axes>"
      ]
     },
     "metadata": {
      "needs_background": "light"
     },
     "output_type": "display_data"
    }
   ],
   "source": [
    "# calculate roc curve\n",
    "fpr, tpr, thresholds = roc_curve(Y_test, pred_test)\n",
    "# plot no skill\n",
    "pyplot.plot([0, 1], [0, 1], linestyle='--')\n",
    "# plot the roc curve for the model\n",
    "pyplot.plot(fpr, tpr, marker='.')\n",
    "# show the plot\n",
    "pyplot.show()"
   ]
  },
  {
   "cell_type": "code",
   "execution_count": 35,
   "metadata": {},
   "outputs": [
    {
     "data": {
      "image/png": "[encoded data removed]",
      "text/plain": [
       "<Figure size 432x288 with 1 Axes>"
      ]
     },
     "metadata": {
      "needs_background": "light"
     },
     "output_type": "display_data"
    }
   ],
   "source": [
    "# calculate roc curve\n",
    "fpr, tpr, thresholds = roc_curve(Y, pred)\n",
    "# plot no skill\n",
    "pyplot.plot([0, 1], [0, 1], linestyle='--')\n",
    "# plot the roc curve for the model\n",
    "pyplot.plot(fpr, tpr, marker='.')\n",
    "# show the plot\n",
    "pyplot.show()"
   ]
  },
  {
   "cell_type": "markdown",
   "metadata": {},
   "source": [
    "Predictions (try maybe predict_proba)"
   ]
  },
  {
   "cell_type": "code",
   "execution_count": 87,
   "metadata": {},
   "outputs": [],
   "source": [
    "df_test = pd.read_csv(\"../data/test.csv\", sep=\",\")\n",
    "X_test = df_test[df_test.columns[1:]].astype(float).values\n",
    "X_test = scaler.fit_transform(X_test)\n",
    "\n",
    "y_preds = clf.predict_proba(X)[:,1]\n",
    "y_test_preds = clf.predict_proba(X_test)[:,1]"
   ]
  },
  {
   "cell_type": "code",
   "execution_count": 88,
   "metadata": {},
   "outputs": [],
   "source": [
    "# How to threshold for an imbalanced problem\n",
    "def Find_Optimal_Cutoff(target, predicted):\n",
    "    \"\"\" Find the optimal probability cutoff point for a classification model related to event rate\n",
    "    Parameters\n",
    "    ----------\n",
    "    target : Matrix with dependent or target data, where rows are observations\n",
    "\n",
    "    predicted : Matrix with predicted data, where rows are observations\n",
    "\n",
    "    Returns\n",
    "    -------     \n",
    "    list type, with optimal cutoff value\n",
    "\n",
    "    \"\"\"\n",
    "    fpr, tpr, threshold = roc_curve(target, predicted)\n",
    "    i = np.arange(len(tpr)) \n",
    "    roc = pd.DataFrame({'tf' : pd.Series(tpr-(1-fpr), index=i), 'threshold' : pd.Series(threshold, index=i)})\n",
    "    roc_t = roc.iloc[(roc.tf-0).abs().argsort()[:1]]\n",
    "\n",
    "    return list(roc_t['threshold']) "
   ]
  },
  {
   "cell_type": "code",
   "execution_count": 89,
   "metadata": {},
   "outputs": [
    {
     "data": {
      "text/plain": [
       "0.023403296247124672"
      ]
     },
     "execution_count": 89,
     "metadata": {},
     "output_type": "execute_result"
    }
   ],
   "source": [
    "y_clf = Y\n",
    "threshold = Find_Optimal_Cutoff(y_clf, y_preds)[0]\n",
    "threshold"
   ]
  },
  {
   "cell_type": "code",
   "execution_count": 90,
   "metadata": {},
   "outputs": [],
   "source": [
    "y_p = np.where(y_preds>threshold,1,0).reshape(-1)\n",
    "y_test_p = np.where(y_test_preds>threshold,1,0).reshape(-1)"
   ]
  },
  {
   "cell_type": "code",
   "execution_count": 91,
   "metadata": {},
   "outputs": [
    {
     "data": {
      "text/plain": [
       "array([[165718,  14184],\n",
       "       [  1584,  18514]])"
      ]
     },
     "execution_count": 91,
     "metadata": {},
     "output_type": "execute_result"
    }
   ],
   "source": [
    "confusion_matrix(y_clf, y_p)"
   ]
  },
  {
   "cell_type": "code",
   "execution_count": 92,
   "metadata": {},
   "outputs": [
    {
     "data": {
      "text/plain": [
       "0.92116"
      ]
     },
     "execution_count": 92,
     "metadata": {},
     "output_type": "execute_result"
    }
   ],
   "source": [
    "np.array(y_clf == y_p).mean()"
   ]
  },
  {
   "cell_type": "code",
   "execution_count": 95,
   "metadata": {},
   "outputs": [],
   "source": [
    "Train_results = pd.DataFrame({'ID_code' : df['ID_code'].tolist(),'actual' : y_clf,'pred' : y_preds})\n",
    "\n",
    "Train_results.to_csv(\"../results/TrainResults_Trial3.csv\", index = False)\n",
    "\n",
    "Test_results = pd.DataFrame({'ID_code' : df_test['ID_code'].tolist(),'target' : y_test_p})\n",
    "\n",
    "Test_results.to_csv(\"../results/TestResults_Trial3.csv\", index = False)"
   ]
  }
 ],
 "metadata": {
  "kernelspec": {
   "display_name": "Python 3",
   "language": "python",
   "name": "python3"
  },
  "language_info": {
   "codemirror_mode": {
    "name": "ipython",
    "version": 3
   },
   "file_extension": ".py",
   "mimetype": "text/x-python",
   "name": "python",
   "nbconvert_exporter": "python",
   "pygments_lexer": "ipython3",
   "version": "3.7.3"
  }
 },
 "nbformat": 4,
 "nbformat_minor": 2
}
